{
 "cells": [
  {
   "cell_type": "markdown",
   "metadata": {},
   "source": [
    "# Lending Club Case Study"
   ]
  },
  {
   "cell_type": "markdown",
   "metadata": {},
   "source": [
    "# Overview - Business Understanding"
   ]
  },
  {
   "cell_type": "markdown",
   "metadata": {},
   "source": [
    "You work for a **consumer finance company** which specialises in lending various types of loans to urban customers. When the company receives a loan application, the company has to make a decision for loan approval based on the applicant’s profile. Two **types of risks** are associated with the bank’s decision:\n",
    "\n",
    "- If the applicant is **likely to repay the loan**, then not approving the loan results in a loss of business to the company\n",
    "\n",
    "- If the applicant is **not likely to repay the loan**, i.e. he/she is likely to default, then approving the loan may lead to a **financial loss** for the company\n",
    "\n",
    "The data given below contains information about past loan applicants and whether they ‘defaulted’ or not. The aim is to identify patterns which indicate if a person is likely to default, which may be used for taking actions such as denying the loan, reducing the amount of loan, lending (to risky applicants) at a higher interest rate, etc.\n",
    "\n",
    " \n",
    "\n",
    "In this case study, you will use EDA to understand how **consumer attributes** and **loan attributes** influence the tendency of default.\n",
    "\n",
    "<p>\n",
    "<img src =\"https://cdn.upgrad.com/UpGrad/temp/7afbce98-8ecc-41c6-96d8-981cba7d343f/Loan_image.png\" alt='Figure 1'>\n",
    "<center> <b>Figure 1. Loan Data Set</b> </center> \n",
    " </br>  \n",
    "</p>\n",
    "\n",
    "When a person applies for a loan, there are **two types of decisions** that could be taken by the company:\n",
    "\n",
    "- **Loan accepted**: If the company approves the loan, there are 3 possible scenarios described below:\n",
    "\n",
    "    - **Fully paid**: Applicant has fully paid the loan (the principal and the interest rate)\n",
    "    - **Current**: Applicant is in the process of paying the instalments, i.e. the tenure of the loan is not yet completed. These candidates are not labelled as 'defaulted'.\n",
    "    - **Charged-off**: Applicant has not paid the instalments in due time for a long period of time, i.e. he/she has defaulted on the loan \n",
    "\n",
    "- **Loan rejected**: The company had rejected the loan (because the candidate does not meet their requirements etc.). Since the loan was rejected, there is no transactional history of those applicants with the company and so this data is not available with the company (and thus in this dataset)"
   ]
  },
  {
   "cell_type": "markdown",
   "metadata": {},
   "source": [
    "# Business Objectives"
   ]
  },
  {
   "cell_type": "markdown",
   "metadata": {},
   "source": [
    "This company is the largest online loan marketplace, facilitating personal loans, business loans, and financing of medical procedures. Borrowers can easily access lower interest rate loans through a fast online interface. \n",
    "\n",
    "Like most other lending companies, lending loans to ‘risky’ applicants is the largest source of financial loss (called credit loss). Credit loss is the amount of money lost by the lender when the borrower refuses to pay or runs away with the money owed. In other words, borrowers who **default** cause the largest amount of loss to the lenders. In this case, the customers labelled as 'charged-off' are the 'defaulters'. \n",
    "\n",
    "If one is able to identify these risky loan applicants, then such loans can be reduced thereby cutting down the amount of credit loss. Identification of such applicants using EDA is the aim of this case study.\n",
    "\n",
    "In other words, the company wants to understand the **driving factors (or driver variables)** behind loan default, i.e. the variables which are strong indicators of default.  The company can utilise this knowledge for its portfolio and risk assessment. \n",
    "\n",
    "To develop your understanding of the domain, you are advised to independently research a little about risk analytics (understanding the types of variables and their significance should be enough)."
   ]
  },
  {
   "cell_type": "markdown",
   "metadata": {},
   "source": [
    "# IMPORT LIBRARIES AND DATASETS"
   ]
  },
  {
   "cell_type": "code",
   "execution_count": 320,
   "metadata": {},
   "outputs": [],
   "source": [
    "# import package\n",
    "import numpy as np                                                 # Implemennts milti-dimensional array and matrices\n",
    "import pandas as pd                                                # For data manipulation and analysis\n",
    "import matplotlib.pyplot as plt                                    # Plotting library for Python programming language and it's numerical mathematics extension NumPy\n",
    "import seaborn as sns                                              # Provides a high level interface for drawing attractive and informative statistical graphics\n",
    "\n",
    "%matplotlib inline\n",
    "sns.set()\n"
   ]
  },
  {
   "cell_type": "markdown",
   "metadata": {},
   "source": [
    "## Data Loading and Description"
   ]
  },
  {
   "cell_type": "markdown",
   "metadata": {},
   "source": [
    "- **Loan Data Set** - It contains the complete loan data for all loans issued through the time period 2007 to 2011.\n",
    "- **Data Dictionary** - You can access the data dictionary which describes the meaning of these variables from the provided link below:\n",
    "\n",
    "To gain insights from data we must look into each aspect of it very carefully. We will start with observing few rows and columns of data both from the starting and from the end.\n",
    "\n",
    "Let us check the basic information of the dataset. The very basic information to know is the dimension of the dataset – rows and columns – that’s what we find out with the method shape."
   ]
  },
  {
   "cell_type": "code",
   "execution_count": 321,
   "metadata": {},
   "outputs": [
    {
     "name": "stderr",
     "output_type": "stream",
     "text": [
      "/opt/anaconda3/lib/python3.8/site-packages/IPython/core/interactiveshell.py:3146: DtypeWarning: Columns (47) have mixed types.Specify dtype option on import or set low_memory=False.\n",
      "  has_raised = await self.run_ast_nodes(code_ast.body, cell_name,\n"
     ]
    }
   ],
   "source": [
    "# Load Data\n",
    "df_loan = pd.read_csv('Data/loan.csv')"
   ]
  },
  {
   "cell_type": "code",
   "execution_count": 322,
   "metadata": {},
   "outputs": [
    {
     "data": {
      "text/html": [
       "<div>\n",
       "<style scoped>\n",
       "    .dataframe tbody tr th:only-of-type {\n",
       "        vertical-align: middle;\n",
       "    }\n",
       "\n",
       "    .dataframe tbody tr th {\n",
       "        vertical-align: top;\n",
       "    }\n",
       "\n",
       "    .dataframe thead th {\n",
       "        text-align: right;\n",
       "    }\n",
       "</style>\n",
       "<table border=\"1\" class=\"dataframe\">\n",
       "  <thead>\n",
       "    <tr style=\"text-align: right;\">\n",
       "      <th></th>\n",
       "      <th>id</th>\n",
       "      <th>member_id</th>\n",
       "      <th>loan_amnt</th>\n",
       "      <th>funded_amnt</th>\n",
       "      <th>funded_amnt_inv</th>\n",
       "      <th>term</th>\n",
       "      <th>int_rate</th>\n",
       "      <th>installment</th>\n",
       "      <th>grade</th>\n",
       "      <th>sub_grade</th>\n",
       "      <th>...</th>\n",
       "      <th>num_tl_90g_dpd_24m</th>\n",
       "      <th>num_tl_op_past_12m</th>\n",
       "      <th>pct_tl_nvr_dlq</th>\n",
       "      <th>percent_bc_gt_75</th>\n",
       "      <th>pub_rec_bankruptcies</th>\n",
       "      <th>tax_liens</th>\n",
       "      <th>tot_hi_cred_lim</th>\n",
       "      <th>total_bal_ex_mort</th>\n",
       "      <th>total_bc_limit</th>\n",
       "      <th>total_il_high_credit_limit</th>\n",
       "    </tr>\n",
       "  </thead>\n",
       "  <tbody>\n",
       "    <tr>\n",
       "      <th>0</th>\n",
       "      <td>1077501</td>\n",
       "      <td>1296599</td>\n",
       "      <td>5000</td>\n",
       "      <td>5000</td>\n",
       "      <td>4975.0</td>\n",
       "      <td>36 months</td>\n",
       "      <td>10.65%</td>\n",
       "      <td>162.87</td>\n",
       "      <td>B</td>\n",
       "      <td>B2</td>\n",
       "      <td>...</td>\n",
       "      <td>NaN</td>\n",
       "      <td>NaN</td>\n",
       "      <td>NaN</td>\n",
       "      <td>NaN</td>\n",
       "      <td>0.0</td>\n",
       "      <td>0.0</td>\n",
       "      <td>NaN</td>\n",
       "      <td>NaN</td>\n",
       "      <td>NaN</td>\n",
       "      <td>NaN</td>\n",
       "    </tr>\n",
       "    <tr>\n",
       "      <th>1</th>\n",
       "      <td>1077430</td>\n",
       "      <td>1314167</td>\n",
       "      <td>2500</td>\n",
       "      <td>2500</td>\n",
       "      <td>2500.0</td>\n",
       "      <td>60 months</td>\n",
       "      <td>15.27%</td>\n",
       "      <td>59.83</td>\n",
       "      <td>C</td>\n",
       "      <td>C4</td>\n",
       "      <td>...</td>\n",
       "      <td>NaN</td>\n",
       "      <td>NaN</td>\n",
       "      <td>NaN</td>\n",
       "      <td>NaN</td>\n",
       "      <td>0.0</td>\n",
       "      <td>0.0</td>\n",
       "      <td>NaN</td>\n",
       "      <td>NaN</td>\n",
       "      <td>NaN</td>\n",
       "      <td>NaN</td>\n",
       "    </tr>\n",
       "    <tr>\n",
       "      <th>2</th>\n",
       "      <td>1077175</td>\n",
       "      <td>1313524</td>\n",
       "      <td>2400</td>\n",
       "      <td>2400</td>\n",
       "      <td>2400.0</td>\n",
       "      <td>36 months</td>\n",
       "      <td>15.96%</td>\n",
       "      <td>84.33</td>\n",
       "      <td>C</td>\n",
       "      <td>C5</td>\n",
       "      <td>...</td>\n",
       "      <td>NaN</td>\n",
       "      <td>NaN</td>\n",
       "      <td>NaN</td>\n",
       "      <td>NaN</td>\n",
       "      <td>0.0</td>\n",
       "      <td>0.0</td>\n",
       "      <td>NaN</td>\n",
       "      <td>NaN</td>\n",
       "      <td>NaN</td>\n",
       "      <td>NaN</td>\n",
       "    </tr>\n",
       "    <tr>\n",
       "      <th>3</th>\n",
       "      <td>1076863</td>\n",
       "      <td>1277178</td>\n",
       "      <td>10000</td>\n",
       "      <td>10000</td>\n",
       "      <td>10000.0</td>\n",
       "      <td>36 months</td>\n",
       "      <td>13.49%</td>\n",
       "      <td>339.31</td>\n",
       "      <td>C</td>\n",
       "      <td>C1</td>\n",
       "      <td>...</td>\n",
       "      <td>NaN</td>\n",
       "      <td>NaN</td>\n",
       "      <td>NaN</td>\n",
       "      <td>NaN</td>\n",
       "      <td>0.0</td>\n",
       "      <td>0.0</td>\n",
       "      <td>NaN</td>\n",
       "      <td>NaN</td>\n",
       "      <td>NaN</td>\n",
       "      <td>NaN</td>\n",
       "    </tr>\n",
       "    <tr>\n",
       "      <th>4</th>\n",
       "      <td>1075358</td>\n",
       "      <td>1311748</td>\n",
       "      <td>3000</td>\n",
       "      <td>3000</td>\n",
       "      <td>3000.0</td>\n",
       "      <td>60 months</td>\n",
       "      <td>12.69%</td>\n",
       "      <td>67.79</td>\n",
       "      <td>B</td>\n",
       "      <td>B5</td>\n",
       "      <td>...</td>\n",
       "      <td>NaN</td>\n",
       "      <td>NaN</td>\n",
       "      <td>NaN</td>\n",
       "      <td>NaN</td>\n",
       "      <td>0.0</td>\n",
       "      <td>0.0</td>\n",
       "      <td>NaN</td>\n",
       "      <td>NaN</td>\n",
       "      <td>NaN</td>\n",
       "      <td>NaN</td>\n",
       "    </tr>\n",
       "  </tbody>\n",
       "</table>\n",
       "<p>5 rows × 111 columns</p>\n",
       "</div>"
      ],
      "text/plain": [
       "        id  member_id  loan_amnt  funded_amnt  funded_amnt_inv        term  \\\n",
       "0  1077501    1296599       5000         5000           4975.0   36 months   \n",
       "1  1077430    1314167       2500         2500           2500.0   60 months   \n",
       "2  1077175    1313524       2400         2400           2400.0   36 months   \n",
       "3  1076863    1277178      10000        10000          10000.0   36 months   \n",
       "4  1075358    1311748       3000         3000           3000.0   60 months   \n",
       "\n",
       "  int_rate  installment grade sub_grade  ... num_tl_90g_dpd_24m  \\\n",
       "0   10.65%       162.87     B        B2  ...                NaN   \n",
       "1   15.27%        59.83     C        C4  ...                NaN   \n",
       "2   15.96%        84.33     C        C5  ...                NaN   \n",
       "3   13.49%       339.31     C        C1  ...                NaN   \n",
       "4   12.69%        67.79     B        B5  ...                NaN   \n",
       "\n",
       "  num_tl_op_past_12m pct_tl_nvr_dlq  percent_bc_gt_75 pub_rec_bankruptcies  \\\n",
       "0                NaN            NaN               NaN                  0.0   \n",
       "1                NaN            NaN               NaN                  0.0   \n",
       "2                NaN            NaN               NaN                  0.0   \n",
       "3                NaN            NaN               NaN                  0.0   \n",
       "4                NaN            NaN               NaN                  0.0   \n",
       "\n",
       "  tax_liens tot_hi_cred_lim total_bal_ex_mort total_bc_limit  \\\n",
       "0       0.0             NaN               NaN            NaN   \n",
       "1       0.0             NaN               NaN            NaN   \n",
       "2       0.0             NaN               NaN            NaN   \n",
       "3       0.0             NaN               NaN            NaN   \n",
       "4       0.0             NaN               NaN            NaN   \n",
       "\n",
       "  total_il_high_credit_limit  \n",
       "0                        NaN  \n",
       "1                        NaN  \n",
       "2                        NaN  \n",
       "3                        NaN  \n",
       "4                        NaN  \n",
       "\n",
       "[5 rows x 111 columns]"
      ]
     },
     "execution_count": 322,
     "metadata": {},
     "output_type": "execute_result"
    }
   ],
   "source": [
    "df_loan.head()"
   ]
  },
  {
   "cell_type": "code",
   "execution_count": 323,
   "metadata": {},
   "outputs": [
    {
     "data": {
      "text/html": [
       "<div>\n",
       "<style scoped>\n",
       "    .dataframe tbody tr th:only-of-type {\n",
       "        vertical-align: middle;\n",
       "    }\n",
       "\n",
       "    .dataframe tbody tr th {\n",
       "        vertical-align: top;\n",
       "    }\n",
       "\n",
       "    .dataframe thead th {\n",
       "        text-align: right;\n",
       "    }\n",
       "</style>\n",
       "<table border=\"1\" class=\"dataframe\">\n",
       "  <thead>\n",
       "    <tr style=\"text-align: right;\">\n",
       "      <th></th>\n",
       "      <th>id</th>\n",
       "      <th>member_id</th>\n",
       "      <th>loan_amnt</th>\n",
       "      <th>funded_amnt</th>\n",
       "      <th>funded_amnt_inv</th>\n",
       "      <th>term</th>\n",
       "      <th>int_rate</th>\n",
       "      <th>installment</th>\n",
       "      <th>grade</th>\n",
       "      <th>sub_grade</th>\n",
       "      <th>...</th>\n",
       "      <th>num_tl_90g_dpd_24m</th>\n",
       "      <th>num_tl_op_past_12m</th>\n",
       "      <th>pct_tl_nvr_dlq</th>\n",
       "      <th>percent_bc_gt_75</th>\n",
       "      <th>pub_rec_bankruptcies</th>\n",
       "      <th>tax_liens</th>\n",
       "      <th>tot_hi_cred_lim</th>\n",
       "      <th>total_bal_ex_mort</th>\n",
       "      <th>total_bc_limit</th>\n",
       "      <th>total_il_high_credit_limit</th>\n",
       "    </tr>\n",
       "  </thead>\n",
       "  <tbody>\n",
       "    <tr>\n",
       "      <th>39712</th>\n",
       "      <td>92187</td>\n",
       "      <td>92174</td>\n",
       "      <td>2500</td>\n",
       "      <td>2500</td>\n",
       "      <td>1075.0</td>\n",
       "      <td>36 months</td>\n",
       "      <td>8.07%</td>\n",
       "      <td>78.42</td>\n",
       "      <td>A</td>\n",
       "      <td>A4</td>\n",
       "      <td>...</td>\n",
       "      <td>NaN</td>\n",
       "      <td>NaN</td>\n",
       "      <td>NaN</td>\n",
       "      <td>NaN</td>\n",
       "      <td>NaN</td>\n",
       "      <td>NaN</td>\n",
       "      <td>NaN</td>\n",
       "      <td>NaN</td>\n",
       "      <td>NaN</td>\n",
       "      <td>NaN</td>\n",
       "    </tr>\n",
       "    <tr>\n",
       "      <th>39713</th>\n",
       "      <td>90665</td>\n",
       "      <td>90607</td>\n",
       "      <td>8500</td>\n",
       "      <td>8500</td>\n",
       "      <td>875.0</td>\n",
       "      <td>36 months</td>\n",
       "      <td>10.28%</td>\n",
       "      <td>275.38</td>\n",
       "      <td>C</td>\n",
       "      <td>C1</td>\n",
       "      <td>...</td>\n",
       "      <td>NaN</td>\n",
       "      <td>NaN</td>\n",
       "      <td>NaN</td>\n",
       "      <td>NaN</td>\n",
       "      <td>NaN</td>\n",
       "      <td>NaN</td>\n",
       "      <td>NaN</td>\n",
       "      <td>NaN</td>\n",
       "      <td>NaN</td>\n",
       "      <td>NaN</td>\n",
       "    </tr>\n",
       "    <tr>\n",
       "      <th>39714</th>\n",
       "      <td>90395</td>\n",
       "      <td>90390</td>\n",
       "      <td>5000</td>\n",
       "      <td>5000</td>\n",
       "      <td>1325.0</td>\n",
       "      <td>36 months</td>\n",
       "      <td>8.07%</td>\n",
       "      <td>156.84</td>\n",
       "      <td>A</td>\n",
       "      <td>A4</td>\n",
       "      <td>...</td>\n",
       "      <td>NaN</td>\n",
       "      <td>NaN</td>\n",
       "      <td>NaN</td>\n",
       "      <td>NaN</td>\n",
       "      <td>NaN</td>\n",
       "      <td>NaN</td>\n",
       "      <td>NaN</td>\n",
       "      <td>NaN</td>\n",
       "      <td>NaN</td>\n",
       "      <td>NaN</td>\n",
       "    </tr>\n",
       "    <tr>\n",
       "      <th>39715</th>\n",
       "      <td>90376</td>\n",
       "      <td>89243</td>\n",
       "      <td>5000</td>\n",
       "      <td>5000</td>\n",
       "      <td>650.0</td>\n",
       "      <td>36 months</td>\n",
       "      <td>7.43%</td>\n",
       "      <td>155.38</td>\n",
       "      <td>A</td>\n",
       "      <td>A2</td>\n",
       "      <td>...</td>\n",
       "      <td>NaN</td>\n",
       "      <td>NaN</td>\n",
       "      <td>NaN</td>\n",
       "      <td>NaN</td>\n",
       "      <td>NaN</td>\n",
       "      <td>NaN</td>\n",
       "      <td>NaN</td>\n",
       "      <td>NaN</td>\n",
       "      <td>NaN</td>\n",
       "      <td>NaN</td>\n",
       "    </tr>\n",
       "    <tr>\n",
       "      <th>39716</th>\n",
       "      <td>87023</td>\n",
       "      <td>86999</td>\n",
       "      <td>7500</td>\n",
       "      <td>7500</td>\n",
       "      <td>800.0</td>\n",
       "      <td>36 months</td>\n",
       "      <td>13.75%</td>\n",
       "      <td>255.43</td>\n",
       "      <td>E</td>\n",
       "      <td>E2</td>\n",
       "      <td>...</td>\n",
       "      <td>NaN</td>\n",
       "      <td>NaN</td>\n",
       "      <td>NaN</td>\n",
       "      <td>NaN</td>\n",
       "      <td>NaN</td>\n",
       "      <td>NaN</td>\n",
       "      <td>NaN</td>\n",
       "      <td>NaN</td>\n",
       "      <td>NaN</td>\n",
       "      <td>NaN</td>\n",
       "    </tr>\n",
       "  </tbody>\n",
       "</table>\n",
       "<p>5 rows × 111 columns</p>\n",
       "</div>"
      ],
      "text/plain": [
       "          id  member_id  loan_amnt  funded_amnt  funded_amnt_inv        term  \\\n",
       "39712  92187      92174       2500         2500           1075.0   36 months   \n",
       "39713  90665      90607       8500         8500            875.0   36 months   \n",
       "39714  90395      90390       5000         5000           1325.0   36 months   \n",
       "39715  90376      89243       5000         5000            650.0   36 months   \n",
       "39716  87023      86999       7500         7500            800.0   36 months   \n",
       "\n",
       "      int_rate  installment grade sub_grade  ... num_tl_90g_dpd_24m  \\\n",
       "39712    8.07%        78.42     A        A4  ...                NaN   \n",
       "39713   10.28%       275.38     C        C1  ...                NaN   \n",
       "39714    8.07%       156.84     A        A4  ...                NaN   \n",
       "39715    7.43%       155.38     A        A2  ...                NaN   \n",
       "39716   13.75%       255.43     E        E2  ...                NaN   \n",
       "\n",
       "      num_tl_op_past_12m pct_tl_nvr_dlq  percent_bc_gt_75  \\\n",
       "39712                NaN            NaN               NaN   \n",
       "39713                NaN            NaN               NaN   \n",
       "39714                NaN            NaN               NaN   \n",
       "39715                NaN            NaN               NaN   \n",
       "39716                NaN            NaN               NaN   \n",
       "\n",
       "      pub_rec_bankruptcies tax_liens tot_hi_cred_lim total_bal_ex_mort  \\\n",
       "39712                  NaN       NaN             NaN               NaN   \n",
       "39713                  NaN       NaN             NaN               NaN   \n",
       "39714                  NaN       NaN             NaN               NaN   \n",
       "39715                  NaN       NaN             NaN               NaN   \n",
       "39716                  NaN       NaN             NaN               NaN   \n",
       "\n",
       "      total_bc_limit total_il_high_credit_limit  \n",
       "39712            NaN                        NaN  \n",
       "39713            NaN                        NaN  \n",
       "39714            NaN                        NaN  \n",
       "39715            NaN                        NaN  \n",
       "39716            NaN                        NaN  \n",
       "\n",
       "[5 rows x 111 columns]"
      ]
     },
     "execution_count": 323,
     "metadata": {},
     "output_type": "execute_result"
    }
   ],
   "source": [
    "df_loan.tail()"
   ]
  },
  {
   "cell_type": "code",
   "execution_count": 324,
   "metadata": {},
   "outputs": [
    {
     "data": {
      "text/plain": [
       "(39717, 111)"
      ]
     },
     "execution_count": 324,
     "metadata": {},
     "output_type": "execute_result"
    }
   ],
   "source": [
    "# Check how many row & columns available in both dataset\n",
    "df_loan.shape"
   ]
  },
  {
   "cell_type": "markdown",
   "metadata": {},
   "source": [
    "loan dataset has __39717 rows and 111 columns.__"
   ]
  },
  {
   "cell_type": "code",
   "execution_count": 325,
   "metadata": {},
   "outputs": [
    {
     "name": "stdout",
     "output_type": "stream",
     "text": [
      "<class 'pandas.core.frame.DataFrame'>\n",
      "RangeIndex: 39717 entries, 0 to 39716\n",
      "Columns: 111 entries, id to total_il_high_credit_limit\n",
      "dtypes: float64(74), int64(13), object(24)\n",
      "memory usage: 33.6+ MB\n"
     ]
    }
   ],
   "source": [
    "# Get info from both data set to understand data in depths \n",
    "df_loan.info()"
   ]
  },
  {
   "cell_type": "code",
   "execution_count": 326,
   "metadata": {},
   "outputs": [
    {
     "data": {
      "text/html": [
       "<div>\n",
       "<style scoped>\n",
       "    .dataframe tbody tr th:only-of-type {\n",
       "        vertical-align: middle;\n",
       "    }\n",
       "\n",
       "    .dataframe tbody tr th {\n",
       "        vertical-align: top;\n",
       "    }\n",
       "\n",
       "    .dataframe thead th {\n",
       "        text-align: right;\n",
       "    }\n",
       "</style>\n",
       "<table border=\"1\" class=\"dataframe\">\n",
       "  <thead>\n",
       "    <tr style=\"text-align: right;\">\n",
       "      <th></th>\n",
       "      <th>id</th>\n",
       "      <th>member_id</th>\n",
       "      <th>loan_amnt</th>\n",
       "      <th>funded_amnt</th>\n",
       "      <th>funded_amnt_inv</th>\n",
       "      <th>installment</th>\n",
       "      <th>annual_inc</th>\n",
       "      <th>dti</th>\n",
       "      <th>delinq_2yrs</th>\n",
       "      <th>inq_last_6mths</th>\n",
       "      <th>...</th>\n",
       "      <th>num_tl_90g_dpd_24m</th>\n",
       "      <th>num_tl_op_past_12m</th>\n",
       "      <th>pct_tl_nvr_dlq</th>\n",
       "      <th>percent_bc_gt_75</th>\n",
       "      <th>pub_rec_bankruptcies</th>\n",
       "      <th>tax_liens</th>\n",
       "      <th>tot_hi_cred_lim</th>\n",
       "      <th>total_bal_ex_mort</th>\n",
       "      <th>total_bc_limit</th>\n",
       "      <th>total_il_high_credit_limit</th>\n",
       "    </tr>\n",
       "  </thead>\n",
       "  <tbody>\n",
       "    <tr>\n",
       "      <th>count</th>\n",
       "      <td>3.971700e+04</td>\n",
       "      <td>3.971700e+04</td>\n",
       "      <td>39717.000000</td>\n",
       "      <td>39717.000000</td>\n",
       "      <td>39717.000000</td>\n",
       "      <td>39717.000000</td>\n",
       "      <td>3.971700e+04</td>\n",
       "      <td>39717.000000</td>\n",
       "      <td>39717.000000</td>\n",
       "      <td>39717.000000</td>\n",
       "      <td>...</td>\n",
       "      <td>0.0</td>\n",
       "      <td>0.0</td>\n",
       "      <td>0.0</td>\n",
       "      <td>0.0</td>\n",
       "      <td>39020.000000</td>\n",
       "      <td>39678.0</td>\n",
       "      <td>0.0</td>\n",
       "      <td>0.0</td>\n",
       "      <td>0.0</td>\n",
       "      <td>0.0</td>\n",
       "    </tr>\n",
       "    <tr>\n",
       "      <th>mean</th>\n",
       "      <td>6.831319e+05</td>\n",
       "      <td>8.504636e+05</td>\n",
       "      <td>11219.443815</td>\n",
       "      <td>10947.713196</td>\n",
       "      <td>10397.448868</td>\n",
       "      <td>324.561922</td>\n",
       "      <td>6.896893e+04</td>\n",
       "      <td>13.315130</td>\n",
       "      <td>0.146512</td>\n",
       "      <td>0.869200</td>\n",
       "      <td>...</td>\n",
       "      <td>NaN</td>\n",
       "      <td>NaN</td>\n",
       "      <td>NaN</td>\n",
       "      <td>NaN</td>\n",
       "      <td>0.043260</td>\n",
       "      <td>0.0</td>\n",
       "      <td>NaN</td>\n",
       "      <td>NaN</td>\n",
       "      <td>NaN</td>\n",
       "      <td>NaN</td>\n",
       "    </tr>\n",
       "    <tr>\n",
       "      <th>std</th>\n",
       "      <td>2.106941e+05</td>\n",
       "      <td>2.656783e+05</td>\n",
       "      <td>7456.670694</td>\n",
       "      <td>7187.238670</td>\n",
       "      <td>7128.450439</td>\n",
       "      <td>208.874874</td>\n",
       "      <td>6.379377e+04</td>\n",
       "      <td>6.678594</td>\n",
       "      <td>0.491812</td>\n",
       "      <td>1.070219</td>\n",
       "      <td>...</td>\n",
       "      <td>NaN</td>\n",
       "      <td>NaN</td>\n",
       "      <td>NaN</td>\n",
       "      <td>NaN</td>\n",
       "      <td>0.204324</td>\n",
       "      <td>0.0</td>\n",
       "      <td>NaN</td>\n",
       "      <td>NaN</td>\n",
       "      <td>NaN</td>\n",
       "      <td>NaN</td>\n",
       "    </tr>\n",
       "    <tr>\n",
       "      <th>min</th>\n",
       "      <td>5.473400e+04</td>\n",
       "      <td>7.069900e+04</td>\n",
       "      <td>500.000000</td>\n",
       "      <td>500.000000</td>\n",
       "      <td>0.000000</td>\n",
       "      <td>15.690000</td>\n",
       "      <td>4.000000e+03</td>\n",
       "      <td>0.000000</td>\n",
       "      <td>0.000000</td>\n",
       "      <td>0.000000</td>\n",
       "      <td>...</td>\n",
       "      <td>NaN</td>\n",
       "      <td>NaN</td>\n",
       "      <td>NaN</td>\n",
       "      <td>NaN</td>\n",
       "      <td>0.000000</td>\n",
       "      <td>0.0</td>\n",
       "      <td>NaN</td>\n",
       "      <td>NaN</td>\n",
       "      <td>NaN</td>\n",
       "      <td>NaN</td>\n",
       "    </tr>\n",
       "    <tr>\n",
       "      <th>25%</th>\n",
       "      <td>5.162210e+05</td>\n",
       "      <td>6.667800e+05</td>\n",
       "      <td>5500.000000</td>\n",
       "      <td>5400.000000</td>\n",
       "      <td>5000.000000</td>\n",
       "      <td>167.020000</td>\n",
       "      <td>4.040400e+04</td>\n",
       "      <td>8.170000</td>\n",
       "      <td>0.000000</td>\n",
       "      <td>0.000000</td>\n",
       "      <td>...</td>\n",
       "      <td>NaN</td>\n",
       "      <td>NaN</td>\n",
       "      <td>NaN</td>\n",
       "      <td>NaN</td>\n",
       "      <td>0.000000</td>\n",
       "      <td>0.0</td>\n",
       "      <td>NaN</td>\n",
       "      <td>NaN</td>\n",
       "      <td>NaN</td>\n",
       "      <td>NaN</td>\n",
       "    </tr>\n",
       "    <tr>\n",
       "      <th>50%</th>\n",
       "      <td>6.656650e+05</td>\n",
       "      <td>8.508120e+05</td>\n",
       "      <td>10000.000000</td>\n",
       "      <td>9600.000000</td>\n",
       "      <td>8975.000000</td>\n",
       "      <td>280.220000</td>\n",
       "      <td>5.900000e+04</td>\n",
       "      <td>13.400000</td>\n",
       "      <td>0.000000</td>\n",
       "      <td>1.000000</td>\n",
       "      <td>...</td>\n",
       "      <td>NaN</td>\n",
       "      <td>NaN</td>\n",
       "      <td>NaN</td>\n",
       "      <td>NaN</td>\n",
       "      <td>0.000000</td>\n",
       "      <td>0.0</td>\n",
       "      <td>NaN</td>\n",
       "      <td>NaN</td>\n",
       "      <td>NaN</td>\n",
       "      <td>NaN</td>\n",
       "    </tr>\n",
       "    <tr>\n",
       "      <th>75%</th>\n",
       "      <td>8.377550e+05</td>\n",
       "      <td>1.047339e+06</td>\n",
       "      <td>15000.000000</td>\n",
       "      <td>15000.000000</td>\n",
       "      <td>14400.000000</td>\n",
       "      <td>430.780000</td>\n",
       "      <td>8.230000e+04</td>\n",
       "      <td>18.600000</td>\n",
       "      <td>0.000000</td>\n",
       "      <td>1.000000</td>\n",
       "      <td>...</td>\n",
       "      <td>NaN</td>\n",
       "      <td>NaN</td>\n",
       "      <td>NaN</td>\n",
       "      <td>NaN</td>\n",
       "      <td>0.000000</td>\n",
       "      <td>0.0</td>\n",
       "      <td>NaN</td>\n",
       "      <td>NaN</td>\n",
       "      <td>NaN</td>\n",
       "      <td>NaN</td>\n",
       "    </tr>\n",
       "    <tr>\n",
       "      <th>max</th>\n",
       "      <td>1.077501e+06</td>\n",
       "      <td>1.314167e+06</td>\n",
       "      <td>35000.000000</td>\n",
       "      <td>35000.000000</td>\n",
       "      <td>35000.000000</td>\n",
       "      <td>1305.190000</td>\n",
       "      <td>6.000000e+06</td>\n",
       "      <td>29.990000</td>\n",
       "      <td>11.000000</td>\n",
       "      <td>8.000000</td>\n",
       "      <td>...</td>\n",
       "      <td>NaN</td>\n",
       "      <td>NaN</td>\n",
       "      <td>NaN</td>\n",
       "      <td>NaN</td>\n",
       "      <td>2.000000</td>\n",
       "      <td>0.0</td>\n",
       "      <td>NaN</td>\n",
       "      <td>NaN</td>\n",
       "      <td>NaN</td>\n",
       "      <td>NaN</td>\n",
       "    </tr>\n",
       "  </tbody>\n",
       "</table>\n",
       "<p>8 rows × 87 columns</p>\n",
       "</div>"
      ],
      "text/plain": [
       "                 id     member_id     loan_amnt   funded_amnt  \\\n",
       "count  3.971700e+04  3.971700e+04  39717.000000  39717.000000   \n",
       "mean   6.831319e+05  8.504636e+05  11219.443815  10947.713196   \n",
       "std    2.106941e+05  2.656783e+05   7456.670694   7187.238670   \n",
       "min    5.473400e+04  7.069900e+04    500.000000    500.000000   \n",
       "25%    5.162210e+05  6.667800e+05   5500.000000   5400.000000   \n",
       "50%    6.656650e+05  8.508120e+05  10000.000000   9600.000000   \n",
       "75%    8.377550e+05  1.047339e+06  15000.000000  15000.000000   \n",
       "max    1.077501e+06  1.314167e+06  35000.000000  35000.000000   \n",
       "\n",
       "       funded_amnt_inv   installment    annual_inc           dti  \\\n",
       "count     39717.000000  39717.000000  3.971700e+04  39717.000000   \n",
       "mean      10397.448868    324.561922  6.896893e+04     13.315130   \n",
       "std        7128.450439    208.874874  6.379377e+04      6.678594   \n",
       "min           0.000000     15.690000  4.000000e+03      0.000000   \n",
       "25%        5000.000000    167.020000  4.040400e+04      8.170000   \n",
       "50%        8975.000000    280.220000  5.900000e+04     13.400000   \n",
       "75%       14400.000000    430.780000  8.230000e+04     18.600000   \n",
       "max       35000.000000   1305.190000  6.000000e+06     29.990000   \n",
       "\n",
       "        delinq_2yrs  inq_last_6mths  ...  num_tl_90g_dpd_24m  \\\n",
       "count  39717.000000    39717.000000  ...                 0.0   \n",
       "mean       0.146512        0.869200  ...                 NaN   \n",
       "std        0.491812        1.070219  ...                 NaN   \n",
       "min        0.000000        0.000000  ...                 NaN   \n",
       "25%        0.000000        0.000000  ...                 NaN   \n",
       "50%        0.000000        1.000000  ...                 NaN   \n",
       "75%        0.000000        1.000000  ...                 NaN   \n",
       "max       11.000000        8.000000  ...                 NaN   \n",
       "\n",
       "       num_tl_op_past_12m  pct_tl_nvr_dlq  percent_bc_gt_75  \\\n",
       "count                 0.0             0.0               0.0   \n",
       "mean                  NaN             NaN               NaN   \n",
       "std                   NaN             NaN               NaN   \n",
       "min                   NaN             NaN               NaN   \n",
       "25%                   NaN             NaN               NaN   \n",
       "50%                   NaN             NaN               NaN   \n",
       "75%                   NaN             NaN               NaN   \n",
       "max                   NaN             NaN               NaN   \n",
       "\n",
       "       pub_rec_bankruptcies  tax_liens  tot_hi_cred_lim  total_bal_ex_mort  \\\n",
       "count          39020.000000    39678.0              0.0                0.0   \n",
       "mean               0.043260        0.0              NaN                NaN   \n",
       "std                0.204324        0.0              NaN                NaN   \n",
       "min                0.000000        0.0              NaN                NaN   \n",
       "25%                0.000000        0.0              NaN                NaN   \n",
       "50%                0.000000        0.0              NaN                NaN   \n",
       "75%                0.000000        0.0              NaN                NaN   \n",
       "max                2.000000        0.0              NaN                NaN   \n",
       "\n",
       "       total_bc_limit  total_il_high_credit_limit  \n",
       "count             0.0                         0.0  \n",
       "mean              NaN                         NaN  \n",
       "std               NaN                         NaN  \n",
       "min               NaN                         NaN  \n",
       "25%               NaN                         NaN  \n",
       "50%               NaN                         NaN  \n",
       "75%               NaN                         NaN  \n",
       "max               NaN                         NaN  \n",
       "\n",
       "[8 rows x 87 columns]"
      ]
     },
     "execution_count": 326,
     "metadata": {},
     "output_type": "execute_result"
    }
   ],
   "source": [
    "df_loan.describe()"
   ]
  },
  {
   "cell_type": "markdown",
   "metadata": {},
   "source": [
    "- The dataset contains details information related to the Customers loans application such as loan amount, funded amount, interest rate, grade, etc. between 2007 and 2011.\n",
    "- The dataset comprises of __39717 observations of 111 columns__. Above is a table showing names of all the columns and their description.\n",
    "- There are few columns have all and/or some NULL/NaN values that either need to drop or fill some value"
   ]
  },
  {
   "cell_type": "markdown",
   "metadata": {},
   "source": [
    "# Utils functions"
   ]
  },
  {
   "cell_type": "code",
   "execution_count": 327,
   "metadata": {},
   "outputs": [],
   "source": [
    "def findColumnWithNA():\n",
    "    result = len(df_loan.columns[df_loan.isna().all()])\n",
    "    print(\"{} columns having null values\".format(result))"
   ]
  },
  {
   "cell_type": "code",
   "execution_count": 328,
   "metadata": {},
   "outputs": [],
   "source": [
    "def findColumnWithAtleastOneNA():\n",
    "    result = len(df_loan.columns[df_loan.isna().any()])\n",
    "    print(\"{} columns having at least null values\".format(result))"
   ]
  },
  {
   "cell_type": "code",
   "execution_count": 329,
   "metadata": {},
   "outputs": [],
   "source": [
    "def findColumnWithoutNA():\n",
    "    result = len(df_loan.columns[df_loan.notna().all()])\n",
    "    print(\"{} columns having other than null values\".format(result))"
   ]
  },
  {
   "cell_type": "code",
   "execution_count": 330,
   "metadata": {},
   "outputs": [],
   "source": [
    "def describeDataSet():\n",
    "    print(\"We are having {} columns in the loan dataframe, out of which \".format(len(df_loan.columns)))\n",
    "    findColumnWithNA()\n",
    "    findColumnWithAtleastOneNA()\n",
    "    findColumnWithoutNA()"
   ]
  },
  {
   "cell_type": "code",
   "execution_count": 331,
   "metadata": {},
   "outputs": [],
   "source": [
    "def getUniqueValues(df):\n",
    "    for (columnName, columnData) in df.iteritems():\n",
    "        print('\\n Colunm Name : ', columnName)\n",
    "        print(' Column Contents : ', columnData.unique())"
   ]
  },
  {
   "cell_type": "code",
   "execution_count": 332,
   "metadata": {},
   "outputs": [],
   "source": [
    "def getUniqueValuesWithNaN(df):\n",
    "    columns_name = df.columns[df.isnull().any()].tolist()\n",
    "    print(columns_name)\n",
    "    for column_name in columns_name:\n",
    "        print('\\n Colunm Name : ', column_name)\n",
    "        print(' Column Contents : ', df[column_name].unique())\n",
    "        print(' Column Contents counts : ', df[column_name].nunique())"
   ]
  },
  {
   "cell_type": "code",
   "execution_count": 318,
   "metadata": {},
   "outputs": [],
   "source": [
    "def isNullValuePresentInDataset(df):\n",
    "    result = df[df.columns[df.isnull().any()]].isnull().sum() * 100 / df.shape[0]\n",
    "    result.sort_values(ascending=False)\n",
    "    print(result)"
   ]
  },
  {
   "cell_type": "markdown",
   "metadata": {},
   "source": [
    "## DATA CLEANUP"
   ]
  },
  {
   "cell_type": "code",
   "execution_count": 333,
   "metadata": {},
   "outputs": [
    {
     "name": "stdout",
     "output_type": "stream",
     "text": [
      "We are having 111 columns in the loan dataframe, out of which \n",
      "54 columns having null values\n",
      "68 columns having at least null values\n",
      "43 columns having other than null values\n"
     ]
    }
   ],
   "source": [
    "# describeDataSet before delete Columns with NA value\n",
    "describeDataSet()"
   ]
  },
  {
   "cell_type": "markdown",
   "metadata": {},
   "source": [
    "We are having 54 Columns with null values that we need to removes all from the datasets"
   ]
  },
  {
   "cell_type": "code",
   "execution_count": 334,
   "metadata": {},
   "outputs": [],
   "source": [
    "df_loan = df_loan.drop(df_loan.columns[df_loan.isna().sum()>len(df_loan.columns)],axis = 1)\n",
    "\n",
    "# We can drop row which having at least null value\n",
    "df_loan = df_loan.dropna(axis = 0).reset_index(drop=True)"
   ]
  },
  {
   "cell_type": "code",
   "execution_count": 335,
   "metadata": {},
   "outputs": [
    {
     "name": "stdout",
     "output_type": "stream",
     "text": [
      "We are having 50 columns in the loan dataframe, out of which \n",
      "0 columns having null values\n",
      "0 columns having at least null values\n",
      "50 columns having other than null values\n"
     ]
    }
   ],
   "source": [
    "# describeDataSet after delete Columns with NA value\n",
    "describeDataSet()"
   ]
  },
  {
   "cell_type": "markdown",
   "metadata": {},
   "source": [
    "Get all columns which having at lest one null/NaN values"
   ]
  },
  {
   "cell_type": "code",
   "execution_count": 336,
   "metadata": {},
   "outputs": [
    {
     "name": "stdout",
     "output_type": "stream",
     "text": [
      "Series([], dtype: float64)\n"
     ]
    }
   ],
   "source": [
    "isNullValuePresentInDataset(df_loan)"
   ]
  },
  {
   "cell_type": "code",
   "execution_count": 337,
   "metadata": {},
   "outputs": [
    {
     "name": "stdout",
     "output_type": "stream",
     "text": [
      "[]\n"
     ]
    }
   ],
   "source": [
    "getUniqueValuesWithNaN(df_loan)"
   ]
  },
  {
   "cell_type": "code",
   "execution_count": 338,
   "metadata": {},
   "outputs": [
    {
     "data": {
      "text/plain": [
       "count    39531.0\n",
       "mean         0.0\n",
       "std          0.0\n",
       "min          0.0\n",
       "25%          0.0\n",
       "50%          0.0\n",
       "75%          0.0\n",
       "max          0.0\n",
       "Name: collections_12_mths_ex_med, dtype: float64"
      ]
     },
     "execution_count": 338,
     "metadata": {},
     "output_type": "execute_result"
    }
   ],
   "source": [
    "df_loan.collections_12_mths_ex_med.describe()"
   ]
  },
  {
   "cell_type": "code",
   "execution_count": 339,
   "metadata": {},
   "outputs": [
    {
     "data": {
      "text/plain": [
       "count    39531.0\n",
       "mean         0.0\n",
       "std          0.0\n",
       "min          0.0\n",
       "25%          0.0\n",
       "50%          0.0\n",
       "75%          0.0\n",
       "max          0.0\n",
       "Name: chargeoff_within_12_mths, dtype: float64"
      ]
     },
     "execution_count": 339,
     "metadata": {},
     "output_type": "execute_result"
    }
   ],
   "source": [
    "df_loan.chargeoff_within_12_mths.describe()"
   ]
  },
  {
   "cell_type": "code",
   "execution_count": 340,
   "metadata": {},
   "outputs": [
    {
     "data": {
      "text/plain": [
       "count    39531.0\n",
       "mean         0.0\n",
       "std          0.0\n",
       "min          0.0\n",
       "25%          0.0\n",
       "50%          0.0\n",
       "75%          0.0\n",
       "max          0.0\n",
       "Name: tax_liens, dtype: float64"
      ]
     },
     "execution_count": 340,
     "metadata": {},
     "output_type": "execute_result"
    }
   ],
   "source": [
    "df_loan.tax_liens.describe()"
   ]
  },
  {
   "cell_type": "markdown",
   "metadata": {},
   "source": [
    "Since there are zero values in chargeoff_within_12_mths, chargeoff_within_12_mths & tax_liens columns, we can drop those columns."
   ]
  },
  {
   "cell_type": "code",
   "execution_count": 341,
   "metadata": {},
   "outputs": [
    {
     "data": {
      "text/html": [
       "<div>\n",
       "<style scoped>\n",
       "    .dataframe tbody tr th:only-of-type {\n",
       "        vertical-align: middle;\n",
       "    }\n",
       "\n",
       "    .dataframe tbody tr th {\n",
       "        vertical-align: top;\n",
       "    }\n",
       "\n",
       "    .dataframe thead th {\n",
       "        text-align: right;\n",
       "    }\n",
       "</style>\n",
       "<table border=\"1\" class=\"dataframe\">\n",
       "  <thead>\n",
       "    <tr style=\"text-align: right;\">\n",
       "      <th></th>\n",
       "      <th>id</th>\n",
       "      <th>member_id</th>\n",
       "      <th>loan_amnt</th>\n",
       "      <th>funded_amnt</th>\n",
       "      <th>funded_amnt_inv</th>\n",
       "      <th>term</th>\n",
       "      <th>int_rate</th>\n",
       "      <th>installment</th>\n",
       "      <th>grade</th>\n",
       "      <th>sub_grade</th>\n",
       "      <th>...</th>\n",
       "      <th>total_rec_late_fee</th>\n",
       "      <th>recoveries</th>\n",
       "      <th>collection_recovery_fee</th>\n",
       "      <th>last_pymnt_d</th>\n",
       "      <th>last_pymnt_amnt</th>\n",
       "      <th>last_credit_pull_d</th>\n",
       "      <th>policy_code</th>\n",
       "      <th>application_type</th>\n",
       "      <th>acc_now_delinq</th>\n",
       "      <th>delinq_amnt</th>\n",
       "    </tr>\n",
       "  </thead>\n",
       "  <tbody>\n",
       "    <tr>\n",
       "      <th>0</th>\n",
       "      <td>1077501</td>\n",
       "      <td>1296599</td>\n",
       "      <td>5000</td>\n",
       "      <td>5000</td>\n",
       "      <td>4975.0</td>\n",
       "      <td>36 months</td>\n",
       "      <td>10.65%</td>\n",
       "      <td>162.87</td>\n",
       "      <td>B</td>\n",
       "      <td>B2</td>\n",
       "      <td>...</td>\n",
       "      <td>0.00</td>\n",
       "      <td>0.00</td>\n",
       "      <td>0.00</td>\n",
       "      <td>Jan-15</td>\n",
       "      <td>171.62</td>\n",
       "      <td>May-16</td>\n",
       "      <td>1</td>\n",
       "      <td>INDIVIDUAL</td>\n",
       "      <td>0</td>\n",
       "      <td>0</td>\n",
       "    </tr>\n",
       "    <tr>\n",
       "      <th>1</th>\n",
       "      <td>1077430</td>\n",
       "      <td>1314167</td>\n",
       "      <td>2500</td>\n",
       "      <td>2500</td>\n",
       "      <td>2500.0</td>\n",
       "      <td>60 months</td>\n",
       "      <td>15.27%</td>\n",
       "      <td>59.83</td>\n",
       "      <td>C</td>\n",
       "      <td>C4</td>\n",
       "      <td>...</td>\n",
       "      <td>0.00</td>\n",
       "      <td>117.08</td>\n",
       "      <td>1.11</td>\n",
       "      <td>Apr-13</td>\n",
       "      <td>119.66</td>\n",
       "      <td>Sep-13</td>\n",
       "      <td>1</td>\n",
       "      <td>INDIVIDUAL</td>\n",
       "      <td>0</td>\n",
       "      <td>0</td>\n",
       "    </tr>\n",
       "    <tr>\n",
       "      <th>2</th>\n",
       "      <td>1077175</td>\n",
       "      <td>1313524</td>\n",
       "      <td>2400</td>\n",
       "      <td>2400</td>\n",
       "      <td>2400.0</td>\n",
       "      <td>36 months</td>\n",
       "      <td>15.96%</td>\n",
       "      <td>84.33</td>\n",
       "      <td>C</td>\n",
       "      <td>C5</td>\n",
       "      <td>...</td>\n",
       "      <td>0.00</td>\n",
       "      <td>0.00</td>\n",
       "      <td>0.00</td>\n",
       "      <td>Jun-14</td>\n",
       "      <td>649.91</td>\n",
       "      <td>May-16</td>\n",
       "      <td>1</td>\n",
       "      <td>INDIVIDUAL</td>\n",
       "      <td>0</td>\n",
       "      <td>0</td>\n",
       "    </tr>\n",
       "    <tr>\n",
       "      <th>3</th>\n",
       "      <td>1076863</td>\n",
       "      <td>1277178</td>\n",
       "      <td>10000</td>\n",
       "      <td>10000</td>\n",
       "      <td>10000.0</td>\n",
       "      <td>36 months</td>\n",
       "      <td>13.49%</td>\n",
       "      <td>339.31</td>\n",
       "      <td>C</td>\n",
       "      <td>C1</td>\n",
       "      <td>...</td>\n",
       "      <td>16.97</td>\n",
       "      <td>0.00</td>\n",
       "      <td>0.00</td>\n",
       "      <td>Jan-15</td>\n",
       "      <td>357.48</td>\n",
       "      <td>Apr-16</td>\n",
       "      <td>1</td>\n",
       "      <td>INDIVIDUAL</td>\n",
       "      <td>0</td>\n",
       "      <td>0</td>\n",
       "    </tr>\n",
       "    <tr>\n",
       "      <th>4</th>\n",
       "      <td>1075358</td>\n",
       "      <td>1311748</td>\n",
       "      <td>3000</td>\n",
       "      <td>3000</td>\n",
       "      <td>3000.0</td>\n",
       "      <td>60 months</td>\n",
       "      <td>12.69%</td>\n",
       "      <td>67.79</td>\n",
       "      <td>B</td>\n",
       "      <td>B5</td>\n",
       "      <td>...</td>\n",
       "      <td>0.00</td>\n",
       "      <td>0.00</td>\n",
       "      <td>0.00</td>\n",
       "      <td>May-16</td>\n",
       "      <td>67.79</td>\n",
       "      <td>May-16</td>\n",
       "      <td>1</td>\n",
       "      <td>INDIVIDUAL</td>\n",
       "      <td>0</td>\n",
       "      <td>0</td>\n",
       "    </tr>\n",
       "  </tbody>\n",
       "</table>\n",
       "<p>5 rows × 47 columns</p>\n",
       "</div>"
      ],
      "text/plain": [
       "        id  member_id  loan_amnt  funded_amnt  funded_amnt_inv        term  \\\n",
       "0  1077501    1296599       5000         5000           4975.0   36 months   \n",
       "1  1077430    1314167       2500         2500           2500.0   60 months   \n",
       "2  1077175    1313524       2400         2400           2400.0   36 months   \n",
       "3  1076863    1277178      10000        10000          10000.0   36 months   \n",
       "4  1075358    1311748       3000         3000           3000.0   60 months   \n",
       "\n",
       "  int_rate  installment grade sub_grade  ... total_rec_late_fee  recoveries  \\\n",
       "0   10.65%       162.87     B        B2  ...               0.00        0.00   \n",
       "1   15.27%        59.83     C        C4  ...               0.00      117.08   \n",
       "2   15.96%        84.33     C        C5  ...               0.00        0.00   \n",
       "3   13.49%       339.31     C        C1  ...              16.97        0.00   \n",
       "4   12.69%        67.79     B        B5  ...               0.00        0.00   \n",
       "\n",
       "  collection_recovery_fee last_pymnt_d last_pymnt_amnt last_credit_pull_d  \\\n",
       "0                    0.00       Jan-15          171.62             May-16   \n",
       "1                    1.11       Apr-13          119.66             Sep-13   \n",
       "2                    0.00       Jun-14          649.91             May-16   \n",
       "3                    0.00       Jan-15          357.48             Apr-16   \n",
       "4                    0.00       May-16           67.79             May-16   \n",
       "\n",
       "  policy_code application_type acc_now_delinq delinq_amnt  \n",
       "0           1       INDIVIDUAL              0           0  \n",
       "1           1       INDIVIDUAL              0           0  \n",
       "2           1       INDIVIDUAL              0           0  \n",
       "3           1       INDIVIDUAL              0           0  \n",
       "4           1       INDIVIDUAL              0           0  \n",
       "\n",
       "[5 rows x 47 columns]"
      ]
     },
     "execution_count": 341,
     "metadata": {},
     "output_type": "execute_result"
    }
   ],
   "source": [
    "df_loan = df_loan.drop(['collections_12_mths_ex_med', 'chargeoff_within_12_mths', 'tax_liens' ],axis = 1)\n",
    "df_loan.head()"
   ]
  },
  {
   "cell_type": "code",
   "execution_count": 342,
   "metadata": {},
   "outputs": [
    {
     "name": "stdout",
     "output_type": "stream",
     "text": [
      "[]\n"
     ]
    }
   ],
   "source": [
    "getUniqueValuesWithNaN(df_loan)"
   ]
  },
  {
   "cell_type": "markdown",
   "metadata": {},
   "source": [
    "Remove '%' from revol_utls columns & then replace null/NaN value with median value"
   ]
  },
  {
   "cell_type": "code",
   "execution_count": 343,
   "metadata": {},
   "outputs": [],
   "source": [
    "# df_loan['revol_util_percentage'] = df_loan['revol_util'].str.rstrip('%')\n",
    "# del df_loan['revol_util']\n",
    "# df_loan['revol_util_percentage'] = df_loan['revol_util_percentage'].fillna(df_loan['revol_util_percentage'].median())"
   ]
  },
  {
   "cell_type": "code",
   "execution_count": null,
   "metadata": {},
   "outputs": [],
   "source": [
    "df_loan.revol_util = pd.to_numeric(df_loan.revol_util.apply(lambda x : x.split('%')[0]))\n",
    "df_loan['revol_util_percentage'] = df_loan['revol_util_percentage'].fillna(df_loan['revol_util_percentage'].median())"
   ]
  },
  {
   "cell_type": "markdown",
   "metadata": {},
   "source": [
    "We also need to remove '%' from int_rate columns "
   ]
  },
  {
   "cell_type": "code",
   "execution_count": 344,
   "metadata": {},
   "outputs": [
    {
     "data": {
      "text/plain": [
       "array([' 36 months', ' 60 months'], dtype=object)"
      ]
     },
     "execution_count": 344,
     "metadata": {},
     "output_type": "execute_result"
    }
   ],
   "source": [
    "df_loan['term'].unique()"
   ]
  },
  {
   "cell_type": "code",
   "execution_count": 345,
   "metadata": {},
   "outputs": [],
   "source": [
    "df_loan['term_in_months'] = df_loan['term'].str.rstrip('months')\n",
    "del df_loan['term']"
   ]
  },
  {
   "cell_type": "code",
   "execution_count": 346,
   "metadata": {},
   "outputs": [
    {
     "data": {
      "text/plain": [
       "array(['10.65%', '15.27%', '15.96%', '13.49%', '12.69%'], dtype=object)"
      ]
     },
     "execution_count": 346,
     "metadata": {},
     "output_type": "execute_result"
    }
   ],
   "source": [
    "df_loan['int_rate'].unique()[:5]"
   ]
  },
  {
   "cell_type": "code",
   "execution_count": 348,
   "metadata": {},
   "outputs": [
    {
     "ename": "KeyError",
     "evalue": "'int_rate'",
     "output_type": "error",
     "traceback": [
      "\u001b[0;31m---------------------------------------------------------------------------\u001b[0m",
      "\u001b[0;31mKeyError\u001b[0m                                  Traceback (most recent call last)",
      "\u001b[0;32m/opt/anaconda3/lib/python3.8/site-packages/pandas/core/indexes/base.py\u001b[0m in \u001b[0;36mget_loc\u001b[0;34m(self, key, method, tolerance)\u001b[0m\n\u001b[1;32m   2894\u001b[0m             \u001b[0;32mtry\u001b[0m\u001b[0;34m:\u001b[0m\u001b[0;34m\u001b[0m\u001b[0;34m\u001b[0m\u001b[0m\n\u001b[0;32m-> 2895\u001b[0;31m                 \u001b[0;32mreturn\u001b[0m \u001b[0mself\u001b[0m\u001b[0;34m.\u001b[0m\u001b[0m_engine\u001b[0m\u001b[0;34m.\u001b[0m\u001b[0mget_loc\u001b[0m\u001b[0;34m(\u001b[0m\u001b[0mcasted_key\u001b[0m\u001b[0;34m)\u001b[0m\u001b[0;34m\u001b[0m\u001b[0;34m\u001b[0m\u001b[0m\n\u001b[0m\u001b[1;32m   2896\u001b[0m             \u001b[0;32mexcept\u001b[0m \u001b[0mKeyError\u001b[0m \u001b[0;32mas\u001b[0m \u001b[0merr\u001b[0m\u001b[0;34m:\u001b[0m\u001b[0;34m\u001b[0m\u001b[0;34m\u001b[0m\u001b[0m\n",
      "\u001b[0;32mpandas/_libs/index.pyx\u001b[0m in \u001b[0;36mpandas._libs.index.IndexEngine.get_loc\u001b[0;34m()\u001b[0m\n",
      "\u001b[0;32mpandas/_libs/index.pyx\u001b[0m in \u001b[0;36mpandas._libs.index.IndexEngine.get_loc\u001b[0;34m()\u001b[0m\n",
      "\u001b[0;32mpandas/_libs/hashtable_class_helper.pxi\u001b[0m in \u001b[0;36mpandas._libs.hashtable.PyObjectHashTable.get_item\u001b[0;34m()\u001b[0m\n",
      "\u001b[0;32mpandas/_libs/hashtable_class_helper.pxi\u001b[0m in \u001b[0;36mpandas._libs.hashtable.PyObjectHashTable.get_item\u001b[0;34m()\u001b[0m\n",
      "\u001b[0;31mKeyError\u001b[0m: 'int_rate'",
      "\nThe above exception was the direct cause of the following exception:\n",
      "\u001b[0;31mKeyError\u001b[0m                                  Traceback (most recent call last)",
      "\u001b[0;32m<ipython-input-348-90c5e03a1ae4>\u001b[0m in \u001b[0;36m<module>\u001b[0;34m\u001b[0m\n\u001b[0;32m----> 1\u001b[0;31m \u001b[0mdf_loan\u001b[0m\u001b[0;34m[\u001b[0m\u001b[0;34m'int_rate_percentage'\u001b[0m\u001b[0;34m]\u001b[0m \u001b[0;34m=\u001b[0m \u001b[0mdf_loan\u001b[0m\u001b[0;34m[\u001b[0m\u001b[0;34m'int_rate'\u001b[0m\u001b[0;34m]\u001b[0m\u001b[0;34m.\u001b[0m\u001b[0mstr\u001b[0m\u001b[0;34m.\u001b[0m\u001b[0mrstrip\u001b[0m\u001b[0;34m(\u001b[0m\u001b[0;34m'%'\u001b[0m\u001b[0;34m)\u001b[0m\u001b[0;34m\u001b[0m\u001b[0;34m\u001b[0m\u001b[0m\n\u001b[0m\u001b[1;32m      2\u001b[0m \u001b[0;32mdel\u001b[0m \u001b[0mdf_loan\u001b[0m\u001b[0;34m[\u001b[0m\u001b[0;34m'int_rate'\u001b[0m\u001b[0;34m]\u001b[0m\u001b[0;34m\u001b[0m\u001b[0;34m\u001b[0m\u001b[0m\n",
      "\u001b[0;32m/opt/anaconda3/lib/python3.8/site-packages/pandas/core/frame.py\u001b[0m in \u001b[0;36m__getitem__\u001b[0;34m(self, key)\u001b[0m\n\u001b[1;32m   2900\u001b[0m             \u001b[0;32mif\u001b[0m \u001b[0mself\u001b[0m\u001b[0;34m.\u001b[0m\u001b[0mcolumns\u001b[0m\u001b[0;34m.\u001b[0m\u001b[0mnlevels\u001b[0m \u001b[0;34m>\u001b[0m \u001b[0;36m1\u001b[0m\u001b[0;34m:\u001b[0m\u001b[0;34m\u001b[0m\u001b[0;34m\u001b[0m\u001b[0m\n\u001b[1;32m   2901\u001b[0m                 \u001b[0;32mreturn\u001b[0m \u001b[0mself\u001b[0m\u001b[0;34m.\u001b[0m\u001b[0m_getitem_multilevel\u001b[0m\u001b[0;34m(\u001b[0m\u001b[0mkey\u001b[0m\u001b[0;34m)\u001b[0m\u001b[0;34m\u001b[0m\u001b[0;34m\u001b[0m\u001b[0m\n\u001b[0;32m-> 2902\u001b[0;31m             \u001b[0mindexer\u001b[0m \u001b[0;34m=\u001b[0m \u001b[0mself\u001b[0m\u001b[0;34m.\u001b[0m\u001b[0mcolumns\u001b[0m\u001b[0;34m.\u001b[0m\u001b[0mget_loc\u001b[0m\u001b[0;34m(\u001b[0m\u001b[0mkey\u001b[0m\u001b[0;34m)\u001b[0m\u001b[0;34m\u001b[0m\u001b[0;34m\u001b[0m\u001b[0m\n\u001b[0m\u001b[1;32m   2903\u001b[0m             \u001b[0;32mif\u001b[0m \u001b[0mis_integer\u001b[0m\u001b[0;34m(\u001b[0m\u001b[0mindexer\u001b[0m\u001b[0;34m)\u001b[0m\u001b[0;34m:\u001b[0m\u001b[0;34m\u001b[0m\u001b[0;34m\u001b[0m\u001b[0m\n\u001b[1;32m   2904\u001b[0m                 \u001b[0mindexer\u001b[0m \u001b[0;34m=\u001b[0m \u001b[0;34m[\u001b[0m\u001b[0mindexer\u001b[0m\u001b[0;34m]\u001b[0m\u001b[0;34m\u001b[0m\u001b[0;34m\u001b[0m\u001b[0m\n",
      "\u001b[0;32m/opt/anaconda3/lib/python3.8/site-packages/pandas/core/indexes/base.py\u001b[0m in \u001b[0;36mget_loc\u001b[0;34m(self, key, method, tolerance)\u001b[0m\n\u001b[1;32m   2895\u001b[0m                 \u001b[0;32mreturn\u001b[0m \u001b[0mself\u001b[0m\u001b[0;34m.\u001b[0m\u001b[0m_engine\u001b[0m\u001b[0;34m.\u001b[0m\u001b[0mget_loc\u001b[0m\u001b[0;34m(\u001b[0m\u001b[0mcasted_key\u001b[0m\u001b[0;34m)\u001b[0m\u001b[0;34m\u001b[0m\u001b[0;34m\u001b[0m\u001b[0m\n\u001b[1;32m   2896\u001b[0m             \u001b[0;32mexcept\u001b[0m \u001b[0mKeyError\u001b[0m \u001b[0;32mas\u001b[0m \u001b[0merr\u001b[0m\u001b[0;34m:\u001b[0m\u001b[0;34m\u001b[0m\u001b[0;34m\u001b[0m\u001b[0m\n\u001b[0;32m-> 2897\u001b[0;31m                 \u001b[0;32mraise\u001b[0m \u001b[0mKeyError\u001b[0m\u001b[0;34m(\u001b[0m\u001b[0mkey\u001b[0m\u001b[0;34m)\u001b[0m \u001b[0;32mfrom\u001b[0m \u001b[0merr\u001b[0m\u001b[0;34m\u001b[0m\u001b[0;34m\u001b[0m\u001b[0m\n\u001b[0m\u001b[1;32m   2898\u001b[0m \u001b[0;34m\u001b[0m\u001b[0m\n\u001b[1;32m   2899\u001b[0m         \u001b[0;32mif\u001b[0m \u001b[0mtolerance\u001b[0m \u001b[0;32mis\u001b[0m \u001b[0;32mnot\u001b[0m \u001b[0;32mNone\u001b[0m\u001b[0;34m:\u001b[0m\u001b[0;34m\u001b[0m\u001b[0;34m\u001b[0m\u001b[0m\n",
      "\u001b[0;31mKeyError\u001b[0m: 'int_rate'"
     ]
    }
   ],
   "source": [
    "df_loan['int_rate_percentage'] = df_loan['int_rate'].str.rstrip('%')\n",
    "del df_loan['int_rate']"
   ]
  },
  {
   "cell_type": "code",
   "execution_count": 349,
   "metadata": {},
   "outputs": [
    {
     "name": "stderr",
     "output_type": "stream",
     "text": [
      "<ipython-input-349-f222600e2d4f>:1: FutureWarning: Columnar iteration over characters will be deprecated in future releases.\n",
      "  df_loan['issue_d_month'], df_loan['issue_d_year'] = df_loan['issue_d'].str.split('-').str\n",
      "<ipython-input-349-f222600e2d4f>:3: FutureWarning: Columnar iteration over characters will be deprecated in future releases.\n",
      "  df_loan['last_credit_pull_d_month'], df_loan['last_credit_pull_d_year'] = df_loan['last_credit_pull_d'].str.split('-').str\n",
      "<ipython-input-349-f222600e2d4f>:5: FutureWarning: Columnar iteration over characters will be deprecated in future releases.\n",
      "  df_loan['last_pymnt_d_month'], df_loan['last_pymnt_d_year'] = df_loan['last_pymnt_d'].str.split('-').str\n",
      "<ipython-input-349-f222600e2d4f>:7: FutureWarning: Columnar iteration over characters will be deprecated in future releases.\n",
      "  df_loan['earliest_cr_line_month'], df_loan['earliest_cr_line_year'] = df_loan['earliest_cr_line'].str.split('-').str\n"
     ]
    }
   ],
   "source": [
    "df_loan['issue_d_month'], df_loan['issue_d_year'] = df_loan['issue_d'].str.split('-').str\n",
    "\n",
    "df_loan['last_credit_pull_d_month'], df_loan['last_credit_pull_d_year'] = df_loan['last_credit_pull_d'].str.split('-').str\n",
    "\n",
    "df_loan['last_pymnt_d_month'], df_loan['last_pymnt_d_year'] = df_loan['last_pymnt_d'].str.split('-').str\n",
    "\n",
    "df_loan['earliest_cr_line_month'], df_loan['earliest_cr_line_year'] = df_loan['earliest_cr_line'].str.split('-').str"
   ]
  },
  {
   "cell_type": "code",
   "execution_count": 350,
   "metadata": {},
   "outputs": [],
   "source": [
    "df_loan['issue_d_year'] = '20' + df_loan['issue_d_year']\n"
   ]
  },
  {
   "cell_type": "code",
   "execution_count": null,
   "metadata": {},
   "outputs": [],
   "source": []
  },
  {
   "cell_type": "markdown",
   "metadata": {},
   "source": [
    "Drop columns from which we have derived new columns\n"
   ]
  },
  {
   "cell_type": "code",
   "execution_count": 351,
   "metadata": {},
   "outputs": [],
   "source": [
    "del df_loan['issue_d']\n",
    "del df_loan['last_credit_pull_d']\n",
    "del df_loan['last_pymnt_d']\n",
    "del df_loan['earliest_cr_line']"
   ]
  },
  {
   "cell_type": "code",
   "execution_count": 352,
   "metadata": {},
   "outputs": [
    {
     "name": "stdout",
     "output_type": "stream",
     "text": [
      "\n",
      " Colunm Name :  id\n",
      " Column Contents :  [1077501 1077430 1077175 ...  120525  120374  120215]\n",
      "\n",
      " Colunm Name :  member_id\n",
      " Column Contents :  [1296599 1314167 1313524 ...  120227  119635  118760]\n",
      "\n",
      " Colunm Name :  loan_amnt\n",
      " Column Contents :  [ 5000  2500  2400 10000  3000  7000  5600  5375  6500 12000  9000  1000\n",
      "  3600  6000  9200 20250 21000 15000  4000  8500  4375 31825 12400 10800\n",
      " 12500  9600  4400 14000 11000 25600 16000  7100 13000 17500 17675  8000\n",
      "  3500 16425  8200 20975  6400 14400  7250 18000 35000 11800  4500 10500\n",
      " 15300 20000  6200  7200  9500 18825 24000  2100  5500 26800 25000 19750\n",
      " 13650 28000 10625  8850  6375 11100  4200  8875 13500 21600  8450 13475\n",
      " 22000  7325  7750 13350 22475  8400 13250  7350 11500 29500  2000 11625\n",
      " 15075  5300  8650  7400 24250 26000  1500 19600  4225 16500 15600 14125\n",
      " 13200 12300  1400  3200 11875  1800 23200  4800  7300 10400  6600 30000\n",
      "  4475  6300  8250  9875 21500  7800  9750 15550 17000  7500  5800  8050\n",
      "  5400  4125  9800 15700  9900  6250 10200 23000 25975 21250 33425  8125\n",
      " 18800 19200 12875  2625 11300  4100 18225 18500 16800  2200 14050 16100\n",
      " 10525 19775 14500 11700  4150 12375  1700 22250 11200 22500 15900  3150\n",
      " 18550  8575  7700 24500 22200 21400  9400 22400  5825  7650 20675 27050\n",
      " 20500 12800 27575  7600 29000  9575 14575  7125 10700 10375  3050 27000\n",
      " 28625 14100 20050 24925 13600 26400  7150 32000 15500 17475  2250 17050\n",
      "  3250 22750  1200  5900 12600  6750 17250 19075 17200 13225 11775 16400\n",
      " 10075  9350  8075 15625 20125  8300  2425  6950  5350  5875  9450 19000\n",
      " 20400 21650 20300  2300 24575  5850  4750  5275  9175 34475 10050 19400\n",
      " 18200  8800 34000 19500  5200 11900 29100 25850  3300 12200 22575  7175\n",
      " 18250 16750 12950  6350 14750  6625  6900 18650  9250 22800 27300 12250\n",
      "  4350 21200  2700  6025  3825  5325 14150  1600  2800 18975  2575  5450\n",
      "  3800  2125 14650 11250 31000  6075  8475  3625 31300  4250 12650 27600\n",
      " 13150  4300 10275 23600  7875 14550  9925 15850  1325  6325 29700 15200\n",
      " 28100 15250  6800 11325 13975 13800  3100  3975 25450  3575 33600 23700\n",
      " 28200  6475 27700 17375 15800 17625 16675  5250 22950  1950  4650 10250\n",
      "  6100  8325  4850  9425 12700 25475 14850 14300 33000  5150 21625  3775\n",
      " 21575 16250  8375 18725 11125  3525 19800  9300 19125  5575  1450 12900\n",
      " 10150 20450 23500 16600  1300  6925 14675 11550 17400  1100  3400 12775\n",
      "  5050 12100 26375  6975 26300  3125 23325 11600  5100 10175 18400 30750\n",
      " 16550  5650 16450 18950  3650 33950 10125 16775  5700 20200 10600  3725\n",
      " 19425 25900 23800  4025  2600  8900 10900 17600 14825  7925 14950  6700\n",
      "  8600  1925 30500  4900 15575  3175 14800 32275  5750 14600 25200  6550\n",
      " 30400 22900  6850  4600 11425 16950 29850 10675  6650 10775 17325 27250\n",
      "  3700  6450 20800 13575 29275  4725 24800 15750 17100 15875 10925  4950\n",
      " 10575  2850 32875 21100 11050 20375  9325  9375  7475 22125 27525 25500\n",
      " 17750  8675  7450 24625 17900 12075  6725 24400  5225 14075 17175  9475\n",
      "  9975 20900 12150 17725 15350  4925  4550 18750 15125 10950 12475  2750\n",
      "  4625 12175  7575 23525 12350 17950  9525  8975 11975 12850 19850 21850\n",
      "  4425 32250  2550 11400 21725 23100 13700  9950 21750 13750 12025 23400\n",
      " 14975 19700 27500  3900 14725 17800  5175 15025 29550 23850 31500  9100\n",
      " 27400 23675  9825 16200 11650 18875 29175  3950  2050 19950 12750 24375\n",
      "  2875 25875 16275 10300 17450  3450  1825 13100 23275  8700  3675  8150\n",
      " 23975  3350  7075  8625 31800 26200 34675 11025  7850 14175  9150 19925\n",
      " 14275 25400 17825 16875 21800 14475 14225 10225 10650 12725 31400  1550\n",
      " 31700 31200  1875 16300 12550 11725 22600 26500  6225  4450  3875 13275\n",
      " 34525 31025  6775 19450  2900  2450 27200 21300  4700  7425 19575 31150\n",
      " 19100 30100 24600 32350  1900 29300  2350 15950 13300  2975 28250  8100\n",
      " 28600  6425  4050 23450 32400 13675 21350  9050  2675  5025  5950 12625\n",
      " 29800  1750 10825 24700 13125  6125 26850 28800  7275  6825 14775 10975\n",
      " 20950  3850 28500 31325 11750 15825  7525  3550  7950 13400  3375  1250\n",
      " 29600 22350  1850 17850 17875  7550  6175 30800 21125 30225  3750 10025\n",
      " 14350  7775 33500 18900  8025  5125 13775  3075 29900 11525  5550  5975\n",
      " 32500 22100 25300 14700  3325  5075  5625 27175 11575 16325 24200 15050\n",
      "  5425 17700 12450 19725 19550  3025 22875 23075 15450 10750  4325  3275\n",
      "  8175 20700  1775  4775  8225  4575 15775 19475 14200 21225 17225 12425\n",
      "  7900 14525  2650  8275 13325 30600  6275  4075  1625  1275 13075 23750\n",
      " 24650 14250  8825  5775  8350 19150  9725 18575  8725 16050 26250 16075\n",
      "  6150  8750 11075 10875 16350  2275  3925 11375 18325  9650  2725 10425\n",
      "  6575  2075 13175  9550 12675 15425 18300 18600  5525 10550 22325 15175\n",
      " 12225 12525 28750 15650 11450 23350  1525 31725 13625 32775 20600  8550\n",
      " 15975  9775 13425  1050  2950 12925 29375  9075  1350 21700 15400  4975\n",
      " 11275  7725  9225  2325 13725  8775 19250 14900 34800 17300  9700  2150\n",
      " 12325 10100 10350  2825 17975  1650 15275  7975  2925  2525  2225  5725\n",
      " 23425  4875  2475  3425 16700  2775 13050 34200  5925 26025 16225  9275\n",
      " 11350 21450 10850  7225  1425  5475 19300  7050 24175 12050  1225 13850\n",
      " 32525 17075  1675 18275  9125 33250 16525 11850 22300  2375  7675  8525\n",
      " 31050  4525  7025 14625 13375  4675 25375 24975 12825 18150 18050  9850\n",
      " 14875 17425 16725 13550  9625 15150 19875  1475 22650 17150  6875  7375\n",
      "  5675  1375  4275  7625  6525  3225  6675  1075 15675 17275 11475 12975\n",
      " 15325  1125  8950 11675 12275  3475 21425 18125 23050 11175 10450 21825\n",
      " 10475 20150 24750 13900  4175 24100 17925 24150 19975 19900 13950 12125\n",
      " 11225 23475 19650 13450 10725  1150 20475 17525   500   725 23575   950\n",
      " 19275   900   750 17350   800 10325 13025 22550]\n",
      "\n",
      " Colunm Name :  funded_amnt\n",
      " Column Contents :  [ 5000  2500  2400 ...   800 13875 22350]\n",
      "\n",
      " Colunm Name :  funded_amnt_inv\n",
      " Column Contents :  [4975. 2500. 2400. ...  200.   75.  150.]\n",
      "\n",
      " Colunm Name :  installment\n",
      " Column Contents :  [162.87  59.83  84.33 ...  94.98  93.67  63.32]\n",
      "\n",
      " Colunm Name :  grade\n",
      " Column Contents :  ['B' 'C' 'A' 'E' 'F' 'D' 'G']\n",
      "\n",
      " Colunm Name :  sub_grade\n",
      " Column Contents :  ['B2' 'C4' 'C5' 'C1' 'B5' 'A4' 'E1' 'F2' 'C3' 'B1' 'D1' 'A1' 'B3' 'B4'\n",
      " 'D2' 'A3' 'A5' 'D5' 'A2' 'E4' 'D3' 'C2' 'D4' 'F3' 'E3' 'F4' 'F1' 'E5'\n",
      " 'G4' 'E2' 'G3' 'G2' 'G1' 'F5' 'G5']\n",
      "\n",
      " Colunm Name :  home_ownership\n",
      " Column Contents :  ['RENT' 'OWN' 'MORTGAGE' 'OTHER' 'NONE']\n",
      "\n",
      " Colunm Name :  annual_inc\n",
      " Column Contents :  [24000. 30000. 12252. ... 46713. 12500. 57100.]\n",
      "\n",
      " Colunm Name :  verification_status\n",
      " Column Contents :  ['Verified' 'Source Verified' 'Not Verified']\n",
      "\n",
      " Colunm Name :  loan_status\n",
      " Column Contents :  ['Fully Paid' 'Charged Off' 'Current']\n",
      "\n",
      " Colunm Name :  pymnt_plan\n",
      " Column Contents :  ['n']\n",
      "\n",
      " Colunm Name :  url\n",
      " Column Contents :  ['https://lendingclub.com/browse/loanDetail.action?loan_id=1077501'\n",
      " 'https://lendingclub.com/browse/loanDetail.action?loan_id=1077430'\n",
      " 'https://lendingclub.com/browse/loanDetail.action?loan_id=1077175' ...\n",
      " 'https://lendingclub.com/browse/loanDetail.action?loan_id=120525'\n",
      " 'https://lendingclub.com/browse/loanDetail.action?loan_id=120374'\n",
      " 'https://lendingclub.com/browse/loanDetail.action?loan_id=120215']\n",
      "\n",
      " Colunm Name :  purpose\n",
      " Column Contents :  ['credit_card' 'car' 'small_business' 'other' 'wedding'\n",
      " 'debt_consolidation' 'home_improvement' 'major_purchase' 'medical'\n",
      " 'moving' 'vacation' 'house' 'renewable_energy' 'educational']\n",
      "\n",
      " Colunm Name :  title\n",
      " Column Contents :  ['Computer' 'bike' 'real estate business' ... 'Not so new car'\n",
      " \"Zach's Pre-Blis Loan\" 'Engineer seeks Environmental Training']\n",
      "\n",
      " Colunm Name :  zip_code\n",
      " Column Contents :  ['860xx' '309xx' '606xx' '917xx' '972xx' '852xx' '280xx' '900xx' '958xx'\n",
      " '774xx' '853xx' '913xx' '245xx' '951xx' '641xx' '921xx' '067xx' '890xx'\n",
      " '770xx' '335xx' '799xx' '605xx' '150xx' '326xx' '564xx' '141xx' '080xx'\n",
      " '330xx' '974xx' '934xx' '405xx' '946xx' '445xx' '850xx' '604xx' '292xx'\n",
      " '088xx' '180xx' '029xx' '700xx' '010xx' '441xx' '104xx' '061xx' '616xx'\n",
      " '947xx' '914xx' '765xx' '980xx' '017xx' '752xx' '787xx' '077xx' '540xx'\n",
      " '225xx' '440xx' '437xx' '559xx' '912xx' '325xx' '300xx' '923xx' '352xx'\n",
      " '013xx' '146xx' '074xx' '786xx' '937xx' '331xx' '115xx' '191xx' '114xx'\n",
      " '908xx' '902xx' '992xx' '750xx' '950xx' '329xx' '226xx' '614xx' '802xx'\n",
      " '672xx' '083xx' '100xx' '926xx' '931xx' '712xx' '060xx' '707xx' '342xx'\n",
      " '895xx' '430xx' '919xx' '996xx' '891xx' '935xx' '801xx' '928xx' '233xx'\n",
      " '927xx' '970xx' '211xx' '303xx' '070xx' '194xx' '263xx' '403xx' '301xx'\n",
      " '553xx' '993xx' '312xx' '432xx' '602xx' '216xx' '151xx' '971xx' '305xx'\n",
      " '334xx' '050xx' '129xx' '925xx' '483xx' '760xx' '961xx' '200xx' '085xx'\n",
      " '981xx' '103xx' '601xx' '117xx' '063xx' '920xx' '543xx' '775xx' '570xx'\n",
      " '038xx' '221xx' '985xx' '113xx' '275xx' '236xx' '148xx' '028xx' '450xx'\n",
      " '532xx' '729xx' '321xx' '959xx' '941xx' '955xx' '217xx' '880xx' '660xx'\n",
      " '062xx' '193xx' '761xx' '857xx' '306xx' '271xx' '142xx' '956xx' '983xx'\n",
      " '945xx' '109xx' '112xx' '187xx' '630xx' '435xx' '488xx' '287xx' '705xx'\n",
      " '592xx' '318xx' '549xx' '212xx' '347xx' '274xx' '265xx' '785xx' '027xx'\n",
      " '089xx' '813xx' '069xx' '260xx' '201xx' '349xx' '322xx' '075xx' '124xx'\n",
      " '940xx' '967xx' '111xx' '773xx' '997xx' '076xx' '538xx' '021xx' '304xx'\n",
      " '234xx' '308xx' '809xx' '071xx' '363xx' '296xx' '240xx' '830xx' '011xx'\n",
      " '622xx' '207xx' '140xx' '336xx' '619xx' '208xx' '618xx' '014xx' '644xx'\n",
      " '283xx' '276xx' '631xx' '243xx' '960xx' '181xx' '922xx' '224xx' '975xx'\n",
      " '105xx' '986xx' '218xx' '652xx' '782xx' '410xx' '480xx' '328xx' '719xx'\n",
      " '982xx' '065xx' '081xx' '954xx' '346xx' '442xx' '025xx' '122xx' '173xx'\n",
      " '282xx' '120xx' '082xx' '766xx' '229xx' '840xx' '744xx' '933xx' '451xx'\n",
      " '907xx' '728xx' '159xx' '333xx' '293xx' '701xx' '984xx' '811xx' '597xx'\n",
      " '957xx' '165xx' '720xx' '119xx' '359xx' '195xx' '084xx' '969xx' '924xx'\n",
      " '531xx' '716xx' '337xx' '841xx' '323xx' '740xx' '179xx' '805xx' '285xx'\n",
      " '551xx' '658xx' '944xx' '232xx' '905xx' '600xx' '327xx' '711xx' '906xx'\n",
      " '444xx' '856xx' '777xx' '072xx' '554xx' '145xx' '537xx' '152xx' '847xx'\n",
      " '295xx' '829xx' '320xx' '131xx' '939xx' '572xx' '281xx' '064xx' '550xx'\n",
      " '078xx' '452xx' '778xx' '313xx' '851xx' '784xx' '804xx' '571xx' '210xx'\n",
      " '988xx' '400xx' '995xx' '023xx' '158xx' '657xx' '016xx' '019xx' '290xx'\n",
      " '190xx' '366xx' '066xx' '991xx' '968xx' '721xx' '439xx' '640xx' '546xx'\n",
      " '024xx' '751xx' '431xx' '741xx' '904xx' '156xx' '316xx' '299xx' '087xx'\n",
      " '739xx' '949xx' '261xx' '073xx' '222xx' '244xx' '617xx' '018xx' '286xx'\n",
      " '759xx' '952xx' '930xx' '911xx' '220xx' '731xx' '730xx' '262xx' '338xx'\n",
      " '160xx' '031xx' '054xx' '223xx' '272xx' '882xx' '557xx' '797xx' '725xx'\n",
      " '130xx' '030xx' '206xx' '324xx' '170xx' '291xx' '161xx' '647xx' '916xx'\n",
      " '665xx' '209xx' '915xx' '110xx' '086xx' '484xx' '844xx' '020xx' '354xx'\n",
      " '448xx' '978xx' '757xx' '953xx' '577xx' '315xx' '664xx' '186xx' '182xx'\n",
      " '574xx' '800xx' '197xx' '137xx' '314xx' '755xx' '973xx' '603xx' '481xx'\n",
      " '780xx' '894xx' '341xx' '361xx' '178xx' '068xx' '565xx' '611xx' '288xx'\n",
      " '443xx' '662xx' '874xx' '560xx' '535xx' '499xx' '162xx' '756xx' '168xx'\n",
      " '827xx' '541xx' '615xx' '989xx' '037xx' '863xx' '339xx' '367xx' '273xx'\n",
      " '052xx' '623xx' '416xx' '648xx' '918xx' '436xx' '898xx' '674xx' '496xx'\n",
      " '294xx' '762xx' '128xx' '903xx' '932xx' '650xx' '246xx' '633xx' '666xx'\n",
      " '228xx' '015xx' '302xx' '573xx' '118xx' '998xx' '767xx' '490xx' '350xx'\n",
      " '591xx' '254xx' '566xx' '596xx' '637xx' '032xx' '763xx' '494xx' '402xx'\n",
      " '545xx' '184xx' '239xx' '977xx' '297xx' '284xx' '144xx' '748xx' '310xx'\n",
      " '147xx' '153xx' '544xx' '948xx' '576xx' '976xx' '107xx' '846xx' '344xx'\n",
      " '351xx' '754xx' '910xx' '656xx' '357xx' '791xx' '493xx' '855xx' '278xx'\n",
      " '125xx' '175xx' '530xx' '171xx' '703xx' '620xx' '438xx' '626xx' '307xx'\n",
      " '636xx' '319xx' '116xx' '645xx' '708xx' '816xx' '625xx' '133xx' '612xx'\n",
      " '238xx' '166xx' '231xx' '241xx' '826xx' '783xx' '793xx' '646xx' '188xx'\n",
      " '108xx' '653xx' '871xx' '057xx' '796xx' '990xx' '219xx' '724xx' '456xx'\n",
      " '214xx' '237xx' '737xx' '121xx' '199xx' '548xx' '453xx' '704xx' '368xx'\n",
      " '828xx' '598xx' '136xx' '610xx' '433xx' '722xx' '743xx' '810xx' '706xx'\n",
      " '235xx' '139xx' '613xx' '454xx' '317xx' '746xx' '446xx' '486xx' '033xx'\n",
      " '279xx' '407xx' '803xx' '794xx' '457xx' '189xx' '196xx' '539xx' '424xx'\n",
      " '492xx' '482xx' '667xx' '845xx' '608xx' '401xx' '362xx' '627xx' '717xx'\n",
      " '356xx' '607xx' '963xx' '198xx' '936xx' '713xx' '227xx' '883xx' '563xx'\n",
      " '893xx' '079xx' '806xx' '360xx' '172xx' '422xx' '768xx' '034xx' '735xx'\n",
      " '870xx' '012xx' '594xx' '215xx' '628xx' '749xx' '101xx' '814xx' '255xx'\n",
      " '745xx' '495xx' '132xx' '183xx' '864xx' '106xx' '663xx' '943xx' '094xx'\n",
      " '177xx' '365xx' '897xx' '776xx' '843xx' '458xx' '421xx' '253xx' '795xx'\n",
      " '727xx' '528xx' '270xx' '808xx' '277xx' '447xx' '358xx' '815xx' '250xx'\n",
      " '230xx' '790xx' '884xx' '242xx' '534xx' '404xx' '397xx' '434xx' '671xx'\n",
      " '655xx' '675xx' '053xx' '859xx' '126xx' '102xx' '256xx' '673xx' '489xx'\n",
      " '258xx' '423xx' '497xx' '788xx' '127xx' '176xx' '380xx' '058xx' '635xx'\n",
      " '498xx' '820xx' '599xx' '822xx' '638xx' '723xx' '449xx' '420xx' '157xx'\n",
      " '726xx' '185xx' '527xx' '298xx' '769xx' '257xx' '881xx' '575xx' '624xx'\n",
      " '134xx' '877xx' '781xx' '718xx' '670xx' '138xx' '026xx' '678xx' '398xx'\n",
      " '411xx' '149xx' '247xx' '875xx' '838xx' '651xx' '364xx' '203xx' '427xx'\n",
      " '629xx' '355xx' '174xx' '547xx' '567xx' '558xx' '135xx' '035xx' '999xx'\n",
      " '634xx' '455xx' '143xx' '154xx' '562xx' '779xx' '561xx' '734xx' '789xx'\n",
      " '812xx' '268xx' '051xx' '865xx' '406xx' '661xx' '758xx' '676xx' '491xx'\n",
      " '267xx' '609xx' '595xx' '259xx' '163xx' '264xx' '409xx' '376xx' '471xx'\n",
      " '375xx' '747xx' '123xx' '714xx' '590xx' '639xx' '412xx' '425xx' '022xx'\n",
      " '369xx' '164xx' '825xx' '266xx' '096xx' '487xx' '251xx' '593xx' '169xx'\n",
      " '413xx' '155xx' '764xx' '710xx' '408xx' '668xx' '056xx' '669xx' '167xx'\n",
      " '542xx' '679xx' '462xx' '792xx' '824xx' '249xx' '798xx' '370xx' '485xx'\n",
      " '654xx' '289xx' '807xx' '252xx' '556xx' '353xx' '677xx' '090xx' '371xx'\n",
      " '831xx' '736xx' '007xx' '332xx' '468xx' '461xx' '093xx' '248xx' '463xx'\n",
      " '391xx' '381xx' '415xx' '378xx' '414xx' '396xx' '836xx' '044xx' '392xx'\n",
      " '772xx' '374xx' '823xx' '395xx' '394xx' '965xx' '390xx' '388xx' '386xx'\n",
      " '040xx' '385xx' '379xx' '681xx' '837xx' '373xx' '753xx' '834xx' '383xx'\n",
      " '384xx' '372xx' '833xx' '522xx' '523xx' '474xx' '465xx' '689xx' '473xx'\n",
      " '041xx' '685xx']\n",
      "\n",
      " Colunm Name :  addr_state\n",
      " Column Contents :  ['AZ' 'GA' 'IL' 'CA' 'OR' 'NC' 'TX' 'VA' 'MO' 'CT' 'UT' 'FL' 'PA' 'MN'\n",
      " 'NY' 'NJ' 'KY' 'OH' 'SC' 'RI' 'LA' 'MA' 'WA' 'WI' 'AL' 'CO' 'KS' 'NV'\n",
      " 'AK' 'MD' 'WV' 'VT' 'MI' 'DC' 'SD' 'NH' 'AR' 'NM' 'MT' 'HI' 'WY' 'OK'\n",
      " 'DE' 'MS' 'TN' 'IA' 'NE' 'ID' 'IN' 'ME']\n",
      "\n",
      " Colunm Name :  dti\n",
      " Column Contents :  [27.65  1.    8.72 ...  1.79  0.12 25.43]\n",
      "\n",
      " Colunm Name :  delinq_2yrs\n",
      " Column Contents :  [ 0  2  3  1  4  6  5  8  7  9 11]\n",
      "\n",
      " Colunm Name :  inq_last_6mths\n",
      " Column Contents :  [1 5 2 0 3 4 6 7 8]\n",
      "\n",
      " Colunm Name :  open_acc\n",
      " Column Contents :  [ 3  2 10 15  9  7  4 11 14 12 20  8  6 17  5 13 16 30 21 18 19 27 23 34\n",
      " 25 22 24 26 32 28 29 33 31 39 35 36 38 44 41 42]\n",
      "\n",
      " Colunm Name :  pub_rec\n",
      " Column Contents :  [0 1 2 3 4]\n",
      "\n",
      " Colunm Name :  revol_bal\n",
      " Column Contents :  [13648  1687  2956 ...  2040  3678  5533]\n",
      "\n",
      " Colunm Name :  total_acc\n",
      " Column Contents :  [ 9  4 10 37 38 12 11 13  3 23 34 29 28 42 14 22 21 17  7 31 44 26 16  6\n",
      " 18 27 24 25 40 35  8 20 15 19 36 51 32 30 33 46  5 61 56 50 41 39 79 62\n",
      " 43 47 53 45 60 55 52 58 54 57 49 63 48 59 77 87 75 72 64 67 78 76 74 66\n",
      " 81 90 80 71 69 73 70 68 65  2]\n",
      "\n",
      " Colunm Name :  initial_list_status\n",
      " Column Contents :  ['f']\n",
      "\n",
      " Colunm Name :  out_prncp\n",
      " Column Contents :  [   0.    524.06 1849.1  ...   19.12   13.28   79.24]\n",
      "\n",
      " Colunm Name :  out_prncp_inv\n",
      " Column Contents :  [   0.    524.06 1844.43 ...   19.09   13.28   79.24]\n",
      "\n",
      " Colunm Name :  total_pymnt\n",
      " Column Contents :  [5863.155187 1008.71     3005.666844 ... 4708.070922 2279.4299\n",
      " 4474.37586 ]\n",
      "\n",
      " Colunm Name :  total_pymnt_inv\n",
      " Column Contents :  [5833.84 1008.71 3005.67 ... 1736.1   541.36 3998.97]\n",
      "\n",
      " Colunm Name :  total_rec_prncp\n",
      " Column Contents :  [ 5000.     456.46  2400.   ...   943.58   455.95 10395.56]\n",
      "\n",
      " Colunm Name :  total_rec_int\n",
      " Column Contents :  [863.16 435.17 605.67 ... 708.07 279.43 474.38]\n",
      "\n",
      " Colunm Name :  total_rec_late_fee\n",
      " Column Contents :  [  0.          16.97        15.00000003 ... 105.          29.97072527\n",
      "  59.99999996]\n",
      "\n",
      " Colunm Name :  recoveries\n",
      " Column Contents :  [   0.        117.08      189.06     ...  150.1       102.91\n",
      " 1254.398838]\n",
      "\n",
      " Colunm Name :  collection_recovery_fee\n",
      " Column Contents :  [  0.     1.11   2.09 ... 124.88 668.36 444.25]\n",
      "\n",
      " Colunm Name :  last_pymnt_amnt\n",
      " Column Contents :  [ 171.62  119.66  649.91 ... 2563.59  134.78   64.27]\n",
      "\n",
      " Colunm Name :  policy_code\n",
      " Column Contents :  [1]\n",
      "\n",
      " Colunm Name :  application_type\n",
      " Column Contents :  ['INDIVIDUAL']\n",
      "\n",
      " Colunm Name :  acc_now_delinq\n",
      " Column Contents :  [0]\n",
      "\n",
      " Colunm Name :  delinq_amnt\n",
      " Column Contents :  [0]\n",
      "\n",
      " Colunm Name :  revol_util_percentage\n",
      " Column Contents :  ['83.70' '9.40' '98.50' ... '49.63' '0.04' '7.28']\n",
      "\n",
      " Colunm Name :  term_in_months\n",
      " Column Contents :  [' 36 ' ' 60 ']\n",
      "\n",
      " Colunm Name :  int_rate_percentage\n",
      " Column Contents :  ['10.65' '15.27' '15.96' '13.49' '12.69' '7.90' '18.64' '21.28' '14.65'\n",
      " '9.91' '16.29' '6.03' '11.71' '12.42' '16.77' '7.51' '8.90' '18.25'\n",
      " '6.62' '19.91' '17.27' '14.27' '17.58' '21.67' '19.42' '22.06' '20.89'\n",
      " '20.30' '23.91' '19.03' '23.52' '23.13' '22.74' '22.35' '24.11' '6.00'\n",
      " '22.11' '7.49' '11.99' '5.99' '10.99' '9.99' '18.79' '11.49' '8.49'\n",
      " '15.99' '16.49' '6.99' '12.99' '15.23' '14.79' '5.42' '10.59' '17.49'\n",
      " '15.62' '21.36' '19.29' '13.99' '18.39' '16.89' '17.99' '20.62' '20.99'\n",
      " '22.85' '19.69' '20.25' '23.22' '21.74' '22.48' '23.59' '12.62' '18.07'\n",
      " '11.63' '7.91' '7.42' '11.14' '20.20' '12.12' '19.39' '16.11' '17.54'\n",
      " '22.64' '13.84' '16.59' '17.19' '12.87' '20.69' '9.67' '21.82' '19.79'\n",
      " '18.49' '22.94' '24.59' '24.40' '21.48' '14.82' '14.17' '7.29' '17.88'\n",
      " '20.11' '16.02' '17.51' '13.43' '14.91' '13.06' '15.28' '15.65' '17.14'\n",
      " '11.11' '10.37' '16.40' '7.66' '10.00' '18.62' '10.74' '5.79' '6.92'\n",
      " '9.63' '14.54' '12.68' '19.36' '13.80' '18.99' '21.59' '20.85' '21.22'\n",
      " '19.74' '20.48' '6.91' '12.23' '12.61' '10.36' '6.17' '6.54' '9.25'\n",
      " '16.69' '15.95' '8.88' '13.35' '9.62' '16.32' '12.98' '14.83' '13.72'\n",
      " '14.09' '14.46' '20.03' '17.80' '15.20' '15.57' '18.54' '19.66' '17.06'\n",
      " '18.17' '17.43' '20.40' '20.77' '18.91' '21.14' '17.44' '13.23' '7.88'\n",
      " '11.12' '13.61' '10.38' '17.56' '17.93' '15.58' '13.98' '14.84' '15.21'\n",
      " '6.76' '6.39' '11.86' '7.14' '14.35' '16.82' '10.75' '14.72' '16.45'\n",
      " '18.67' '20.53' '19.41' '20.16' '21.27' '18.30' '19.04' '20.90' '21.64'\n",
      " '12.73' '10.25' '13.11' '10.62' '13.48' '14.59' '16.07' '15.70' '9.88'\n",
      " '11.36' '15.33' '13.85' '14.96' '14.22' '7.74' '13.22' '13.57' '8.59'\n",
      " '17.04' '14.61' '8.94' '12.18' '11.83' '11.48' '16.35' '13.92' '15.31'\n",
      " '14.26' '19.13' '12.53' '16.70' '16.00' '17.39' '18.09' '7.40' '18.43'\n",
      " '17.74' '7.05' '20.52' '20.86' '19.47' '18.78' '21.21' '19.82' '20.17'\n",
      " '13.16' '8.00' '13.47' '12.21' '16.63' '9.32' '12.84' '11.26' '15.68'\n",
      " '15.37' '10.95' '11.89' '14.11' '13.79' '7.68' '11.58' '7.37' '16.95'\n",
      " '15.05' '18.53' '14.74' '14.42' '18.21' '17.26' '18.84' '17.90' '19.16'\n",
      " '13.67' '9.38' '12.72' '13.36' '11.46' '10.51' '9.07' '13.04' '11.78'\n",
      " '12.41' '10.83' '12.09' '17.46' '14.30' '17.15' '15.25' '10.20' '15.88'\n",
      " '14.93' '16.20' '18.72' '14.62' '8.32' '14.12' '10.96' '10.33' '10.01'\n",
      " '12.86' '11.28' '11.59' '8.63' '12.54' '12.22' '11.91' '15.38' '16.96'\n",
      " '13.17' '9.70' '16.33' '14.75' '15.07' '16.01' '10.71' '10.64' '9.76'\n",
      " '11.34' '10.39' '13.87' '11.03' '11.66' '13.24' '10.08' '9.45' '13.55'\n",
      " '12.29' '11.97' '12.92' '15.45' '14.50' '14.18' '15.13' '16.08' '15.76'\n",
      " '17.03' '17.34' '16.71' '9.83' '13.62' '10.46' '9.51' '9.20' '13.30'\n",
      " '10.78' '7.75' '8.38' '12.36' '12.67' '11.72' '13.93' '8.07' '7.43'\n",
      " '12.04' '14.25' '14.88' '11.41' '11.09' '10.14' '16.15' '15.83' '7.12'\n",
      " '18.36' '9.64' '9.96' '11.22' '9.01' '9.33' '11.54' '12.17' '12.80'\n",
      " '14.38' '13.75' '14.70' '12.49' '14.07' '10.91' '13.12' '10.28' '8.70'\n",
      " '14.67' '15.01']\n",
      "\n",
      " Colunm Name :  issue_d_month\n",
      " Column Contents :  ['Dec' 'Nov' 'Oct' 'Sep' 'Aug' 'Jul' 'Jun' 'May' 'Apr' 'Mar' 'Feb' 'Jan']\n",
      "\n",
      " Colunm Name :  issue_d_year\n",
      " Column Contents :  ['2011' '2010' '2009' '2008' '2007']\n",
      "\n",
      " Colunm Name :  last_credit_pull_d_month\n",
      " Column Contents :  ['May' 'Sep' 'Apr' 'Jan' 'Dec' 'Aug' 'Mar' 'Nov' 'Jul' 'Feb' 'Jun' 'Oct']\n",
      "\n",
      " Colunm Name :  last_credit_pull_d_year\n",
      " Column Contents :  ['16' '13' '14' '12' '15' '11' '10' '07' '09' '08']\n",
      "\n",
      " Colunm Name :  last_pymnt_d_month\n",
      " Column Contents :  ['Jan' 'Apr' 'Jun' 'May' 'Nov' 'Sep' 'Jul' 'Oct' 'Feb' 'Aug' 'Dec' 'Mar']\n",
      "\n",
      " Colunm Name :  last_pymnt_d_year\n",
      " Column Contents :  ['15' '13' '14' '16' '12' '11' '10' '09' '08']\n",
      "\n",
      " Colunm Name :  earliest_cr_line_month\n",
      " Column Contents :  ['Jan' 'Apr' 'Nov' 'Feb' 'Jul' 'Sep' 'Oct' 'May' 'Aug' 'Jun' 'Dec' 'Mar']\n",
      "\n",
      " Colunm Name :  earliest_cr_line_year\n",
      " Column Contents :  ['85' '99' '01' '96' '04' '05' '07' '98' '89' '03' '91' '93' '97' '83'\n",
      " '02' '84' '06' '87' '81' '00' '94' '95' '92' '86' '90' '88' '80' '08'\n",
      " '73' '79' '82' '78' '71' '72' '70' '69' '75' '76' '77' '62' '68' '74'\n",
      " '64' '67' '65' '63' '54' '66' '59' '56' '46' '50' '61']\n"
     ]
    }
   ],
   "source": [
    "getUniqueValues(df_loan)"
   ]
  },
  {
   "cell_type": "code",
   "execution_count": 353,
   "metadata": {},
   "outputs": [
    {
     "data": {
      "text/html": [
       "<div>\n",
       "<style scoped>\n",
       "    .dataframe tbody tr th:only-of-type {\n",
       "        vertical-align: middle;\n",
       "    }\n",
       "\n",
       "    .dataframe tbody tr th {\n",
       "        vertical-align: top;\n",
       "    }\n",
       "\n",
       "    .dataframe thead th {\n",
       "        text-align: right;\n",
       "    }\n",
       "</style>\n",
       "<table border=\"1\" class=\"dataframe\">\n",
       "  <thead>\n",
       "    <tr style=\"text-align: right;\">\n",
       "      <th></th>\n",
       "      <th>id</th>\n",
       "      <th>member_id</th>\n",
       "      <th>loan_amnt</th>\n",
       "      <th>funded_amnt</th>\n",
       "      <th>funded_amnt_inv</th>\n",
       "      <th>installment</th>\n",
       "      <th>grade</th>\n",
       "      <th>sub_grade</th>\n",
       "      <th>home_ownership</th>\n",
       "      <th>annual_inc</th>\n",
       "      <th>...</th>\n",
       "      <th>term_in_months</th>\n",
       "      <th>int_rate_percentage</th>\n",
       "      <th>issue_d_month</th>\n",
       "      <th>issue_d_year</th>\n",
       "      <th>last_credit_pull_d_month</th>\n",
       "      <th>last_credit_pull_d_year</th>\n",
       "      <th>last_pymnt_d_month</th>\n",
       "      <th>last_pymnt_d_year</th>\n",
       "      <th>earliest_cr_line_month</th>\n",
       "      <th>earliest_cr_line_year</th>\n",
       "    </tr>\n",
       "  </thead>\n",
       "  <tbody>\n",
       "    <tr>\n",
       "      <th>0</th>\n",
       "      <td>1077501</td>\n",
       "      <td>1296599</td>\n",
       "      <td>5000</td>\n",
       "      <td>5000</td>\n",
       "      <td>4975.0</td>\n",
       "      <td>162.87</td>\n",
       "      <td>B</td>\n",
       "      <td>B2</td>\n",
       "      <td>RENT</td>\n",
       "      <td>24000.0</td>\n",
       "      <td>...</td>\n",
       "      <td>36</td>\n",
       "      <td>10.65</td>\n",
       "      <td>Dec</td>\n",
       "      <td>2011</td>\n",
       "      <td>May</td>\n",
       "      <td>16</td>\n",
       "      <td>Jan</td>\n",
       "      <td>15</td>\n",
       "      <td>Jan</td>\n",
       "      <td>85</td>\n",
       "    </tr>\n",
       "    <tr>\n",
       "      <th>1</th>\n",
       "      <td>1077430</td>\n",
       "      <td>1314167</td>\n",
       "      <td>2500</td>\n",
       "      <td>2500</td>\n",
       "      <td>2500.0</td>\n",
       "      <td>59.83</td>\n",
       "      <td>C</td>\n",
       "      <td>C4</td>\n",
       "      <td>RENT</td>\n",
       "      <td>30000.0</td>\n",
       "      <td>...</td>\n",
       "      <td>60</td>\n",
       "      <td>15.27</td>\n",
       "      <td>Dec</td>\n",
       "      <td>2011</td>\n",
       "      <td>Sep</td>\n",
       "      <td>13</td>\n",
       "      <td>Apr</td>\n",
       "      <td>13</td>\n",
       "      <td>Apr</td>\n",
       "      <td>99</td>\n",
       "    </tr>\n",
       "    <tr>\n",
       "      <th>2</th>\n",
       "      <td>1077175</td>\n",
       "      <td>1313524</td>\n",
       "      <td>2400</td>\n",
       "      <td>2400</td>\n",
       "      <td>2400.0</td>\n",
       "      <td>84.33</td>\n",
       "      <td>C</td>\n",
       "      <td>C5</td>\n",
       "      <td>RENT</td>\n",
       "      <td>12252.0</td>\n",
       "      <td>...</td>\n",
       "      <td>36</td>\n",
       "      <td>15.96</td>\n",
       "      <td>Dec</td>\n",
       "      <td>2011</td>\n",
       "      <td>May</td>\n",
       "      <td>16</td>\n",
       "      <td>Jun</td>\n",
       "      <td>14</td>\n",
       "      <td>Nov</td>\n",
       "      <td>01</td>\n",
       "    </tr>\n",
       "    <tr>\n",
       "      <th>3</th>\n",
       "      <td>1076863</td>\n",
       "      <td>1277178</td>\n",
       "      <td>10000</td>\n",
       "      <td>10000</td>\n",
       "      <td>10000.0</td>\n",
       "      <td>339.31</td>\n",
       "      <td>C</td>\n",
       "      <td>C1</td>\n",
       "      <td>RENT</td>\n",
       "      <td>49200.0</td>\n",
       "      <td>...</td>\n",
       "      <td>36</td>\n",
       "      <td>13.49</td>\n",
       "      <td>Dec</td>\n",
       "      <td>2011</td>\n",
       "      <td>Apr</td>\n",
       "      <td>16</td>\n",
       "      <td>Jan</td>\n",
       "      <td>15</td>\n",
       "      <td>Feb</td>\n",
       "      <td>96</td>\n",
       "    </tr>\n",
       "    <tr>\n",
       "      <th>4</th>\n",
       "      <td>1075358</td>\n",
       "      <td>1311748</td>\n",
       "      <td>3000</td>\n",
       "      <td>3000</td>\n",
       "      <td>3000.0</td>\n",
       "      <td>67.79</td>\n",
       "      <td>B</td>\n",
       "      <td>B5</td>\n",
       "      <td>RENT</td>\n",
       "      <td>80000.0</td>\n",
       "      <td>...</td>\n",
       "      <td>60</td>\n",
       "      <td>12.69</td>\n",
       "      <td>Dec</td>\n",
       "      <td>2011</td>\n",
       "      <td>May</td>\n",
       "      <td>16</td>\n",
       "      <td>May</td>\n",
       "      <td>16</td>\n",
       "      <td>Jan</td>\n",
       "      <td>96</td>\n",
       "    </tr>\n",
       "  </tbody>\n",
       "</table>\n",
       "<p>5 rows × 51 columns</p>\n",
       "</div>"
      ],
      "text/plain": [
       "        id  member_id  loan_amnt  funded_amnt  funded_amnt_inv  installment  \\\n",
       "0  1077501    1296599       5000         5000           4975.0       162.87   \n",
       "1  1077430    1314167       2500         2500           2500.0        59.83   \n",
       "2  1077175    1313524       2400         2400           2400.0        84.33   \n",
       "3  1076863    1277178      10000        10000          10000.0       339.31   \n",
       "4  1075358    1311748       3000         3000           3000.0        67.79   \n",
       "\n",
       "  grade sub_grade home_ownership  annual_inc  ... term_in_months  \\\n",
       "0     B        B2           RENT     24000.0  ...            36    \n",
       "1     C        C4           RENT     30000.0  ...            60    \n",
       "2     C        C5           RENT     12252.0  ...            36    \n",
       "3     C        C1           RENT     49200.0  ...            36    \n",
       "4     B        B5           RENT     80000.0  ...            60    \n",
       "\n",
       "  int_rate_percentage issue_d_month issue_d_year last_credit_pull_d_month  \\\n",
       "0               10.65           Dec         2011                      May   \n",
       "1               15.27           Dec         2011                      Sep   \n",
       "2               15.96           Dec         2011                      May   \n",
       "3               13.49           Dec         2011                      Apr   \n",
       "4               12.69           Dec         2011                      May   \n",
       "\n",
       "  last_credit_pull_d_year last_pymnt_d_month last_pymnt_d_year  \\\n",
       "0                      16                Jan                15   \n",
       "1                      13                Apr                13   \n",
       "2                      16                Jun                14   \n",
       "3                      16                Jan                15   \n",
       "4                      16                May                16   \n",
       "\n",
       "   earliest_cr_line_month  earliest_cr_line_year  \n",
       "0                     Jan                     85  \n",
       "1                     Apr                     99  \n",
       "2                     Nov                     01  \n",
       "3                     Feb                     96  \n",
       "4                     Jan                     96  \n",
       "\n",
       "[5 rows x 51 columns]"
      ]
     },
     "execution_count": 353,
     "metadata": {},
     "output_type": "execute_result"
    }
   ],
   "source": [
    "df_loan.head()"
   ]
  },
  {
   "cell_type": "code",
   "execution_count": 354,
   "metadata": {},
   "outputs": [
    {
     "data": {
      "text/plain": [
       "(39531, 51)"
      ]
     },
     "execution_count": 354,
     "metadata": {},
     "output_type": "execute_result"
    }
   ],
   "source": [
    "df_loan.shape"
   ]
  },
  {
   "cell_type": "code",
   "execution_count": 315,
   "metadata": {},
   "outputs": [
    {
     "name": "stdout",
     "output_type": "stream",
     "text": [
      "<class 'pandas.core.frame.DataFrame'>\n",
      "RangeIndex: 39717 entries, 0 to 39716\n",
      "Data columns (total 51 columns):\n",
      " #   Column                    Non-Null Count  Dtype  \n",
      "---  ------                    --------------  -----  \n",
      " 0   id                        39717 non-null  int64  \n",
      " 1   member_id                 39717 non-null  int64  \n",
      " 2   loan_amnt                 39717 non-null  int64  \n",
      " 3   funded_amnt               39717 non-null  int64  \n",
      " 4   funded_amnt_inv           39717 non-null  float64\n",
      " 5   installment               39717 non-null  float64\n",
      " 6   grade                     39717 non-null  object \n",
      " 7   sub_grade                 39717 non-null  object \n",
      " 8   home_ownership            39717 non-null  object \n",
      " 9   annual_inc                39717 non-null  float64\n",
      " 10  verification_status       39717 non-null  object \n",
      " 11  loan_status               39717 non-null  object \n",
      " 12  pymnt_plan                39717 non-null  object \n",
      " 13  url                       39717 non-null  object \n",
      " 14  purpose                   39717 non-null  object \n",
      " 15  title                     39706 non-null  object \n",
      " 16  zip_code                  39717 non-null  object \n",
      " 17  addr_state                39717 non-null  object \n",
      " 18  dti                       39717 non-null  float64\n",
      " 19  delinq_2yrs               39717 non-null  int64  \n",
      " 20  inq_last_6mths            39717 non-null  int64  \n",
      " 21  open_acc                  39717 non-null  int64  \n",
      " 22  pub_rec                   39717 non-null  int64  \n",
      " 23  revol_bal                 39717 non-null  int64  \n",
      " 24  total_acc                 39717 non-null  int64  \n",
      " 25  initial_list_status       39717 non-null  object \n",
      " 26  out_prncp                 39717 non-null  float64\n",
      " 27  out_prncp_inv             39717 non-null  float64\n",
      " 28  total_pymnt               39717 non-null  float64\n",
      " 29  total_pymnt_inv           39717 non-null  float64\n",
      " 30  total_rec_prncp           39717 non-null  float64\n",
      " 31  total_rec_int             39717 non-null  float64\n",
      " 32  total_rec_late_fee        39717 non-null  float64\n",
      " 33  recoveries                39717 non-null  float64\n",
      " 34  collection_recovery_fee   39717 non-null  float64\n",
      " 35  last_pymnt_amnt           39717 non-null  float64\n",
      " 36  policy_code               39717 non-null  int64  \n",
      " 37  application_type          39717 non-null  object \n",
      " 38  acc_now_delinq            39717 non-null  int64  \n",
      " 39  delinq_amnt               39717 non-null  int64  \n",
      " 40  revol_util_percentage     39717 non-null  object \n",
      " 41  term_in_months            39717 non-null  object \n",
      " 42  int_rate_percentage       39717 non-null  object \n",
      " 43  issue_d_month             39717 non-null  object \n",
      " 44  issue_d_year              39717 non-null  object \n",
      " 45  last_credit_pull_d_month  39715 non-null  object \n",
      " 46  last_credit_pull_d_year   39715 non-null  object \n",
      " 47  last_pymnt_d_month        39646 non-null  object \n",
      " 48  last_pymnt_d_year         39646 non-null  object \n",
      " 49  earliest_cr_line_month    39717 non-null  object \n",
      " 50  earliest_cr_line_year     39717 non-null  object \n",
      "dtypes: float64(14), int64(13), object(24)\n",
      "memory usage: 15.5+ MB\n"
     ]
    }
   ],
   "source": [
    "df_loan.info()"
   ]
  },
  {
   "cell_type": "code",
   "execution_count": 355,
   "metadata": {},
   "outputs": [
    {
     "name": "stdout",
     "output_type": "stream",
     "text": [
      "We are having 51 columns in the loan dataframe, out of which \n",
      "0 columns having null values\n",
      "0 columns having at least null values\n",
      "51 columns having other than null values\n"
     ]
    }
   ],
   "source": [
    "describeDataSet()"
   ]
  },
  {
   "cell_type": "code",
   "execution_count": 356,
   "metadata": {},
   "outputs": [
    {
     "name": "stdout",
     "output_type": "stream",
     "text": [
      "[]\n"
     ]
    }
   ],
   "source": [
    "getUniqueValuesWithNaN(df_loan)"
   ]
  },
  {
   "cell_type": "code",
   "execution_count": 357,
   "metadata": {},
   "outputs": [
    {
     "name": "stdout",
     "output_type": "stream",
     "text": [
      "Series([], dtype: float64)\n"
     ]
    }
   ],
   "source": [
    "isNullValuePresentInDataset(df_loan)"
   ]
  },
  {
   "cell_type": "markdown",
   "metadata": {},
   "source": [
    "# Derive Data"
   ]
  },
  {
   "cell_type": "code",
   "execution_count": 359,
   "metadata": {},
   "outputs": [],
   "source": [
    "# Creating a profit and loss column\n",
    "df_loan['profit_and_loss']=(df_loan['total_pymnt']- df_loan['funded_amnt'])*100/df_loan['funded_amnt']"
   ]
  },
  {
   "cell_type": "code",
   "execution_count": 360,
   "metadata": {},
   "outputs": [],
   "source": [
    "df_loan['loan_inc_ratio'] = df_loan.funded_amnt*100/df_loan.annual_inc"
   ]
  },
  {
   "cell_type": "code",
   "execution_count": 361,
   "metadata": {},
   "outputs": [],
   "source": [
    "columns = ['total_acc', 'term_in_months', 'issue_d_year']\n",
    "df_loan[columns] = df_loan[columns].astype(np.int)"
   ]
  },
  {
   "cell_type": "code",
   "execution_count": 362,
   "metadata": {},
   "outputs": [],
   "source": [
    "df_loan['annual_inc_lakhs'] = df_loan['annual_inc'] / 1000"
   ]
  },
  {
   "cell_type": "code",
   "execution_count": 363,
   "metadata": {},
   "outputs": [
    {
     "data": {
      "text/plain": [
       "count    39531.000000\n",
       "mean        69.014674\n",
       "std         63.836100\n",
       "min          4.000000\n",
       "25%         40.746000\n",
       "50%         59.000000\n",
       "75%         82.404000\n",
       "max       6000.000000\n",
       "Name: annual_inc_lakhs, dtype: float64"
      ]
     },
     "execution_count": 363,
     "metadata": {},
     "output_type": "execute_result"
    }
   ],
   "source": [
    "df_loan['annual_inc_lakhs'].describe()"
   ]
  },
  {
   "cell_type": "code",
   "execution_count": 414,
   "metadata": {},
   "outputs": [],
   "source": [
    "# columns = ['grade', 'sub_grade', 'home_ownership', 'verification_status', 'loan_status', 'purpose', 'addr_state', \n",
    "#            'delinq_2yrs', 'inq_last_6mths', 'open_acc', 'pub_rec']\n",
    "# df_loan[columns] = df_loan[columns].apply(lambda x: x.astype('category'))"
   ]
  },
  {
   "cell_type": "code",
   "execution_count": 416,
   "metadata": {},
   "outputs": [
    {
     "data": {
      "text/html": [
       "<div>\n",
       "<style scoped>\n",
       "    .dataframe tbody tr th:only-of-type {\n",
       "        vertical-align: middle;\n",
       "    }\n",
       "\n",
       "    .dataframe tbody tr th {\n",
       "        vertical-align: top;\n",
       "    }\n",
       "\n",
       "    .dataframe thead th {\n",
       "        text-align: right;\n",
       "    }\n",
       "</style>\n",
       "<table border=\"1\" class=\"dataframe\">\n",
       "  <thead>\n",
       "    <tr style=\"text-align: right;\">\n",
       "      <th></th>\n",
       "      <th>id</th>\n",
       "      <th>member_id</th>\n",
       "      <th>loan_amnt</th>\n",
       "      <th>funded_amnt</th>\n",
       "      <th>funded_amnt_inv</th>\n",
       "      <th>installment</th>\n",
       "      <th>grade</th>\n",
       "      <th>sub_grade</th>\n",
       "      <th>home_ownership</th>\n",
       "      <th>annual_inc</th>\n",
       "      <th>...</th>\n",
       "      <th>issue_d_year</th>\n",
       "      <th>last_credit_pull_d_month</th>\n",
       "      <th>last_credit_pull_d_year</th>\n",
       "      <th>last_pymnt_d_month</th>\n",
       "      <th>last_pymnt_d_year</th>\n",
       "      <th>earliest_cr_line_month</th>\n",
       "      <th>earliest_cr_line_year</th>\n",
       "      <th>profit_and_loss</th>\n",
       "      <th>loan_inc_ratio</th>\n",
       "      <th>annual_inc_lakhs</th>\n",
       "    </tr>\n",
       "  </thead>\n",
       "  <tbody>\n",
       "    <tr>\n",
       "      <th>0</th>\n",
       "      <td>1077501</td>\n",
       "      <td>1296599</td>\n",
       "      <td>5000</td>\n",
       "      <td>5000</td>\n",
       "      <td>4975.0</td>\n",
       "      <td>162.87</td>\n",
       "      <td>B</td>\n",
       "      <td>B2</td>\n",
       "      <td>RENT</td>\n",
       "      <td>24000.0</td>\n",
       "      <td>...</td>\n",
       "      <td>2011</td>\n",
       "      <td>May</td>\n",
       "      <td>16</td>\n",
       "      <td>Jan</td>\n",
       "      <td>15</td>\n",
       "      <td>Jan</td>\n",
       "      <td>85</td>\n",
       "      <td>17.263104</td>\n",
       "      <td>20.833333</td>\n",
       "      <td>24.000</td>\n",
       "    </tr>\n",
       "    <tr>\n",
       "      <th>1</th>\n",
       "      <td>1077430</td>\n",
       "      <td>1314167</td>\n",
       "      <td>2500</td>\n",
       "      <td>2500</td>\n",
       "      <td>2500.0</td>\n",
       "      <td>59.83</td>\n",
       "      <td>C</td>\n",
       "      <td>C4</td>\n",
       "      <td>RENT</td>\n",
       "      <td>30000.0</td>\n",
       "      <td>...</td>\n",
       "      <td>2011</td>\n",
       "      <td>Sep</td>\n",
       "      <td>13</td>\n",
       "      <td>Apr</td>\n",
       "      <td>13</td>\n",
       "      <td>Apr</td>\n",
       "      <td>99</td>\n",
       "      <td>-59.651600</td>\n",
       "      <td>8.333333</td>\n",
       "      <td>30.000</td>\n",
       "    </tr>\n",
       "    <tr>\n",
       "      <th>2</th>\n",
       "      <td>1077175</td>\n",
       "      <td>1313524</td>\n",
       "      <td>2400</td>\n",
       "      <td>2400</td>\n",
       "      <td>2400.0</td>\n",
       "      <td>84.33</td>\n",
       "      <td>C</td>\n",
       "      <td>C5</td>\n",
       "      <td>RENT</td>\n",
       "      <td>12252.0</td>\n",
       "      <td>...</td>\n",
       "      <td>2011</td>\n",
       "      <td>May</td>\n",
       "      <td>16</td>\n",
       "      <td>Jun</td>\n",
       "      <td>14</td>\n",
       "      <td>Nov</td>\n",
       "      <td>01</td>\n",
       "      <td>25.236119</td>\n",
       "      <td>19.588639</td>\n",
       "      <td>12.252</td>\n",
       "    </tr>\n",
       "    <tr>\n",
       "      <th>3</th>\n",
       "      <td>1076863</td>\n",
       "      <td>1277178</td>\n",
       "      <td>10000</td>\n",
       "      <td>10000</td>\n",
       "      <td>10000.0</td>\n",
       "      <td>339.31</td>\n",
       "      <td>C</td>\n",
       "      <td>C1</td>\n",
       "      <td>RENT</td>\n",
       "      <td>49200.0</td>\n",
       "      <td>...</td>\n",
       "      <td>2011</td>\n",
       "      <td>Apr</td>\n",
       "      <td>16</td>\n",
       "      <td>Jan</td>\n",
       "      <td>15</td>\n",
       "      <td>Feb</td>\n",
       "      <td>96</td>\n",
       "      <td>22.318900</td>\n",
       "      <td>20.325203</td>\n",
       "      <td>49.200</td>\n",
       "    </tr>\n",
       "    <tr>\n",
       "      <th>4</th>\n",
       "      <td>1075358</td>\n",
       "      <td>1311748</td>\n",
       "      <td>3000</td>\n",
       "      <td>3000</td>\n",
       "      <td>3000.0</td>\n",
       "      <td>67.79</td>\n",
       "      <td>B</td>\n",
       "      <td>B5</td>\n",
       "      <td>RENT</td>\n",
       "      <td>80000.0</td>\n",
       "      <td>...</td>\n",
       "      <td>2011</td>\n",
       "      <td>May</td>\n",
       "      <td>16</td>\n",
       "      <td>May</td>\n",
       "      <td>16</td>\n",
       "      <td>Jan</td>\n",
       "      <td>96</td>\n",
       "      <td>17.111000</td>\n",
       "      <td>3.750000</td>\n",
       "      <td>80.000</td>\n",
       "    </tr>\n",
       "  </tbody>\n",
       "</table>\n",
       "<p>5 rows × 54 columns</p>\n",
       "</div>"
      ],
      "text/plain": [
       "        id  member_id  loan_amnt  funded_amnt  funded_amnt_inv  installment  \\\n",
       "0  1077501    1296599       5000         5000           4975.0       162.87   \n",
       "1  1077430    1314167       2500         2500           2500.0        59.83   \n",
       "2  1077175    1313524       2400         2400           2400.0        84.33   \n",
       "3  1076863    1277178      10000        10000          10000.0       339.31   \n",
       "4  1075358    1311748       3000         3000           3000.0        67.79   \n",
       "\n",
       "  grade sub_grade home_ownership  annual_inc  ... issue_d_year  \\\n",
       "0     B        B2           RENT     24000.0  ...         2011   \n",
       "1     C        C4           RENT     30000.0  ...         2011   \n",
       "2     C        C5           RENT     12252.0  ...         2011   \n",
       "3     C        C1           RENT     49200.0  ...         2011   \n",
       "4     B        B5           RENT     80000.0  ...         2011   \n",
       "\n",
       "  last_credit_pull_d_month last_credit_pull_d_year last_pymnt_d_month  \\\n",
       "0                      May                      16                Jan   \n",
       "1                      Sep                      13                Apr   \n",
       "2                      May                      16                Jun   \n",
       "3                      Apr                      16                Jan   \n",
       "4                      May                      16                May   \n",
       "\n",
       "  last_pymnt_d_year earliest_cr_line_month earliest_cr_line_year  \\\n",
       "0                15                    Jan                    85   \n",
       "1                13                    Apr                    99   \n",
       "2                14                    Nov                    01   \n",
       "3                15                    Feb                    96   \n",
       "4                16                    Jan                    96   \n",
       "\n",
       "  profit_and_loss  loan_inc_ratio annual_inc_lakhs  \n",
       "0       17.263104       20.833333           24.000  \n",
       "1      -59.651600        8.333333           30.000  \n",
       "2       25.236119       19.588639           12.252  \n",
       "3       22.318900       20.325203           49.200  \n",
       "4       17.111000        3.750000           80.000  \n",
       "\n",
       "[5 rows x 54 columns]"
      ]
     },
     "execution_count": 416,
     "metadata": {},
     "output_type": "execute_result"
    }
   ],
   "source": [
    "df_loan.head()"
   ]
  },
  {
   "cell_type": "code",
   "execution_count": 417,
   "metadata": {},
   "outputs": [
    {
     "name": "stdout",
     "output_type": "stream",
     "text": [
      "<class 'pandas.core.frame.DataFrame'>\n",
      "RangeIndex: 39531 entries, 0 to 39530\n",
      "Data columns (total 54 columns):\n",
      " #   Column                    Non-Null Count  Dtype   \n",
      "---  ------                    --------------  -----   \n",
      " 0   id                        39531 non-null  int64   \n",
      " 1   member_id                 39531 non-null  int64   \n",
      " 2   loan_amnt                 39531 non-null  int64   \n",
      " 3   funded_amnt               39531 non-null  int64   \n",
      " 4   funded_amnt_inv           39531 non-null  float64 \n",
      " 5   installment               39531 non-null  float64 \n",
      " 6   grade                     39531 non-null  category\n",
      " 7   sub_grade                 39531 non-null  category\n",
      " 8   home_ownership            39531 non-null  category\n",
      " 9   annual_inc                39531 non-null  float64 \n",
      " 10  verification_status       39531 non-null  category\n",
      " 11  loan_status               39531 non-null  category\n",
      " 12  pymnt_plan                39531 non-null  object  \n",
      " 13  url                       39531 non-null  object  \n",
      " 14  purpose                   39531 non-null  category\n",
      " 15  title                     39531 non-null  object  \n",
      " 16  zip_code                  39531 non-null  object  \n",
      " 17  addr_state                39531 non-null  category\n",
      " 18  dti                       39531 non-null  float64 \n",
      " 19  delinq_2yrs               39531 non-null  category\n",
      " 20  inq_last_6mths            39531 non-null  category\n",
      " 21  open_acc                  39531 non-null  category\n",
      " 22  pub_rec                   39531 non-null  category\n",
      " 23  revol_bal                 39531 non-null  int64   \n",
      " 24  total_acc                 39531 non-null  int64   \n",
      " 25  initial_list_status       39531 non-null  object  \n",
      " 26  out_prncp                 39531 non-null  float64 \n",
      " 27  out_prncp_inv             39531 non-null  float64 \n",
      " 28  total_pymnt               39531 non-null  float64 \n",
      " 29  total_pymnt_inv           39531 non-null  float64 \n",
      " 30  total_rec_prncp           39531 non-null  float64 \n",
      " 31  total_rec_int             39531 non-null  float64 \n",
      " 32  total_rec_late_fee        39531 non-null  float64 \n",
      " 33  recoveries                39531 non-null  float64 \n",
      " 34  collection_recovery_fee   39531 non-null  float64 \n",
      " 35  last_pymnt_amnt           39531 non-null  float64 \n",
      " 36  policy_code               39531 non-null  int64   \n",
      " 37  application_type          39531 non-null  object  \n",
      " 38  acc_now_delinq            39531 non-null  int64   \n",
      " 39  delinq_amnt               39531 non-null  int64   \n",
      " 40  revol_util_percentage     39531 non-null  object  \n",
      " 41  term_in_months            39531 non-null  int64   \n",
      " 42  int_rate_percentage       39531 non-null  float64 \n",
      " 43  issue_d_month             39531 non-null  object  \n",
      " 44  issue_d_year              39531 non-null  int64   \n",
      " 45  last_credit_pull_d_month  39531 non-null  object  \n",
      " 46  last_credit_pull_d_year   39531 non-null  object  \n",
      " 47  last_pymnt_d_month        39531 non-null  object  \n",
      " 48  last_pymnt_d_year         39531 non-null  object  \n",
      " 49  earliest_cr_line_month    39531 non-null  object  \n",
      " 50  earliest_cr_line_year     39531 non-null  object  \n",
      " 51  profit_and_loss           39531 non-null  float64 \n",
      " 52  loan_inc_ratio            39531 non-null  float64 \n",
      " 53  annual_inc_lakhs          39531 non-null  float64 \n",
      "dtypes: category(11), float64(18), int64(11), object(14)\n",
      "memory usage: 13.4+ MB\n"
     ]
    }
   ],
   "source": [
    "df_loan.info()"
   ]
  },
  {
   "cell_type": "markdown",
   "metadata": {},
   "source": [
    "# Exploratory Data Analysis  "
   ]
  },
  {
   "cell_type": "code",
   "execution_count": 366,
   "metadata": {},
   "outputs": [
    {
     "data": {
      "text/plain": [
       "Fully Paid     32856\n",
       "Charged Off     5535\n",
       "Current         1140\n",
       "Name: loan_status, dtype: int64"
      ]
     },
     "execution_count": 366,
     "metadata": {},
     "output_type": "execute_result"
    }
   ],
   "source": [
    "df_loan[\"loan_status\"].value_counts()"
   ]
  },
  {
   "cell_type": "code",
   "execution_count": 367,
   "metadata": {},
   "outputs": [
    {
     "data": {
      "image/png": "[encoded data removed]",
      "text/plain": [
       "<Figure size 432x288 with 1 Axes>"
      ]
     },
     "metadata": {},
     "output_type": "display_data"
    }
   ],
   "source": [
    "sns.boxplot( y=df_loan[\"loan_amnt\"] )\n",
    "plt.ylabel('Loan Amount')\n",
    "plt.show()"
   ]
  },
  {
   "cell_type": "markdown",
   "metadata": {},
   "source": [
    "Inference: The loan amount varies from 0 to 35,000 having mean of 10,000"
   ]
  },
  {
   "cell_type": "code",
   "execution_count": 368,
   "metadata": {},
   "outputs": [
    {
     "data": {
      "image/png": "[encoded data removed]",
      "text/plain": [
       "<Figure size 432x288 with 1 Axes>"
      ]
     },
     "metadata": {},
     "output_type": "display_data"
    }
   ],
   "source": [
    "sns.countplot(x= df_loan[\"loan_status\"])\n",
    "plt.show()"
   ]
  },
  {
   "cell_type": "markdown",
   "metadata": {},
   "source": [
    "Inference:\n",
    "\n",
    "Most of the loans are Fully Paid.\n",
    "About 14% of loan are having status as defaulters.\n",
    "We have a class imbalance here."
   ]
  },
  {
   "cell_type": "code",
   "execution_count": 369,
   "metadata": {},
   "outputs": [
    {
     "data": {
      "image/png": "[encoded data removed]",
      "text/plain": [
       "<Figure size 432x288 with 1 Axes>"
      ]
     },
     "metadata": {},
     "output_type": "display_data"
    }
   ],
   "source": [
    "sns.countplot(x='grade', data=df_loan)\n",
    "plt.show()"
   ]
  },
  {
   "cell_type": "markdown",
   "metadata": {},
   "source": [
    "Inference: Most of the loans have grade of A and B. Therefore stating most of the loans are high graded loans"
   ]
  },
  {
   "cell_type": "code",
   "execution_count": 370,
   "metadata": {},
   "outputs": [
    {
     "name": "stderr",
     "output_type": "stream",
     "text": [
      "/opt/anaconda3/lib/python3.8/site-packages/seaborn/distributions.py:2551: FutureWarning: `distplot` is a deprecated function and will be removed in a future version. Please adapt your code to use either `displot` (a figure-level function with similar flexibility) or `histplot` (an axes-level function for histograms).\n",
      "  warnings.warn(msg, FutureWarning)\n"
     ]
    },
    {
     "data": {
      "image/png": "[encoded data removed]",
      "text/plain": [
       "<Figure size 432x288 with 1 Axes>"
      ]
     },
     "metadata": {},
     "output_type": "display_data"
    }
   ],
   "source": [
    "sns.distplot(df_loan['funded_amnt'])\n",
    "plt.show()"
   ]
  },
  {
   "cell_type": "markdown",
   "metadata": {},
   "source": [
    "Inference: Funded amount is left skewed. Most of the loan amount given is 5 lakhs"
   ]
  },
  {
   "cell_type": "code",
   "execution_count": 371,
   "metadata": {},
   "outputs": [
    {
     "data": {
      "image/png": "[encoded data removed]",
      "text/plain": [
       "<Figure size 432x288 with 1 Axes>"
      ]
     },
     "metadata": {},
     "output_type": "display_data"
    }
   ],
   "source": [
    "sns.boxplot(x=df_loan['annual_inc_lakhs'])\n",
    "plt.xlabel('Annual Income in Lakhs')\n",
    "plt.show()"
   ]
  },
  {
   "cell_type": "markdown",
   "metadata": {},
   "source": [
    "Inference: There are only two applicants having annual income of more than 30 lakhs"
   ]
  },
  {
   "cell_type": "code",
   "execution_count": 372,
   "metadata": {},
   "outputs": [
    {
     "name": "stderr",
     "output_type": "stream",
     "text": [
      "/opt/anaconda3/lib/python3.8/site-packages/seaborn/distributions.py:2551: FutureWarning: `distplot` is a deprecated function and will be removed in a future version. Please adapt your code to use either `displot` (a figure-level function with similar flexibility) or `histplot` (an axes-level function for histograms).\n",
      "  warnings.warn(msg, FutureWarning)\n"
     ]
    },
    {
     "data": {
      "image/png": "[encoded data removed]",
      "text/plain": [
       "<Figure size 432x288 with 1 Axes>"
      ]
     },
     "metadata": {},
     "output_type": "display_data"
    }
   ],
   "source": [
    "sns.distplot(df_loan[df_loan['annual_inc_lakhs'] < 3000]['annual_inc_lakhs'], bins=5)\n",
    "plt.xlabel('Annual Income in Lakhs')\n",
    "plt.show()"
   ]
  },
  {
   "cell_type": "markdown",
   "metadata": {},
   "source": [
    "Inference: Majority of loan applicants have income less than 5 lakhs"
   ]
  },
  {
   "cell_type": "code",
   "execution_count": 373,
   "metadata": {},
   "outputs": [
    {
     "data": {
      "image/png": "[encoded data removed]",
      "text/plain": [
       "<Figure size 432x288 with 2 Axes>"
      ]
     },
     "metadata": {},
     "output_type": "display_data"
    }
   ],
   "source": [
    "#Relationship of Funded Amount with defaults\n",
    "plt.subplot(1,2,1)\n",
    "plt.title('Default')\n",
    "sns.boxplot(y=df_loan[df_loan.loan_status=='Charged Off'].profit_and_loss)\n",
    "\n",
    "\n",
    "plt.subplot(1,2,2)\n",
    "plt.title('Fully Paid')\n",
    "sns.boxplot(y=df_loan[df_loan.loan_status=='Fully Paid'].profit_and_loss)\n",
    "plt.show()"
   ]
  },
  {
   "cell_type": "markdown",
   "metadata": {},
   "source": [
    "Let's type cast 'int_rate_percentage' object to float"
   ]
  },
  {
   "cell_type": "code",
   "execution_count": 385,
   "metadata": {},
   "outputs": [],
   "source": [
    "df_loan['int_rate_percentage'] = df_loan['int_rate_percentage'].astype(float)"
   ]
  },
  {
   "cell_type": "code",
   "execution_count": 386,
   "metadata": {},
   "outputs": [
    {
     "data": {
      "image/png": "[encoded data removed]",
      "text/plain": [
       "<Figure size 432x288 with 1 Axes>"
      ]
     },
     "metadata": {},
     "output_type": "display_data"
    }
   ],
   "source": [
    "sns.boxplot(y='int_rate_percentage', x='grade', data=df_loan)\n",
    "plt.ylabel('Interest Rate Percentage')\n",
    "plt.show()"
   ]
  },
  {
   "cell_type": "code",
   "execution_count": 387,
   "metadata": {},
   "outputs": [
    {
     "data": {
      "image/png": "[encoded data removed]",
      "text/plain": [
       "<Figure size 432x288 with 1 Axes>"
      ]
     },
     "metadata": {},
     "output_type": "display_data"
    }
   ],
   "source": [
    "sns.boxplot(y='int_rate_percentage', x='loan_status', data=df_loan)\n",
    "plt.ylabel('Interest Rate Percentage')\n",
    "plt.xlabel('Loan Status')\n",
    "plt.show()"
   ]
  },
  {
   "cell_type": "markdown",
   "metadata": {},
   "source": [
    "## Segmented Univariate Analysis"
   ]
  },
  {
   "cell_type": "code",
   "execution_count": 388,
   "metadata": {},
   "outputs": [
    {
     "data": {
      "image/png": "[encoded data removed]",
      "text/plain": [
       "<Figure size 432x288 with 1 Axes>"
      ]
     },
     "metadata": {},
     "output_type": "display_data"
    }
   ],
   "source": [
    "sns.countplot(x='purpose', hue=\"loan_status\", data=df_loan)\n",
    "plt.xticks(rotation=90)\n",
    "plt.show()"
   ]
  },
  {
   "cell_type": "markdown",
   "metadata": {},
   "source": [
    "Inference: Majority of loan has been given for the debt consolidation purpose and has been fully paid."
   ]
  },
  {
   "cell_type": "code",
   "execution_count": 389,
   "metadata": {},
   "outputs": [
    {
     "data": {
      "image/png": "[encoded data removed]",
      "text/plain": [
       "<Figure size 432x288 with 1 Axes>"
      ]
     },
     "metadata": {},
     "output_type": "display_data"
    }
   ],
   "source": [
    "sns.boxplot( y=\"loan_amnt\", x='loan_status' , data=df_loan)\n",
    "plt.ylabel('Loan Amount')\n",
    "plt.show()"
   ]
  },
  {
   "cell_type": "markdown",
   "metadata": {},
   "source": [
    "Inference: Mean, 25% and 75% Loan amount of Fully paid and charged off is exactly same"
   ]
  },
  {
   "cell_type": "code",
   "execution_count": 390,
   "metadata": {},
   "outputs": [
    {
     "data": {
      "image/png": "[encoded data removed]",
      "text/plain": [
       "<Figure size 432x288 with 1 Axes>"
      ]
     },
     "metadata": {},
     "output_type": "display_data"
    }
   ],
   "source": [
    "sns.countplot( x=\"term_in_months\", hue='loan_status', data=df_loan)\n",
    "plt.xlabel('Loan Term in Months')\n",
    "plt.show()"
   ]
  },
  {
   "cell_type": "code",
   "execution_count": 391,
   "metadata": {},
   "outputs": [
    {
     "data": {
      "image/png": "[encoded data removed]",
      "text/plain": [
       "<Figure size 720x504 with 1 Axes>"
      ]
     },
     "metadata": {},
     "output_type": "display_data"
    }
   ],
   "source": [
    "plt.figure(figsize=(10,7))\n",
    "sns.countplot( x=\"term_in_months\", hue='purpose', data=df_loan)\n",
    "plt.xlabel('Loan Term in Months')\n",
    "plt.show()"
   ]
  },
  {
   "cell_type": "code",
   "execution_count": 392,
   "metadata": {},
   "outputs": [
    {
     "data": {
      "image/png": "[encoded data removed]",
      "text/plain": [
       "<Figure size 432x288 with 1 Axes>"
      ]
     },
     "metadata": {},
     "output_type": "display_data"
    }
   ],
   "source": [
    "sns.countplot(x='purpose', hue='loan_status', data=df_loan)\n",
    "plt.title('No of loans granted for various purpose')\n",
    "plt.xticks(rotation=90)\n",
    "plt.show()"
   ]
  },
  {
   "cell_type": "code",
   "execution_count": 393,
   "metadata": {},
   "outputs": [
    {
     "data": {
      "image/png": "[encoded data removed]",
      "text/plain": [
       "<Figure size 432x288 with 1 Axes>"
      ]
     },
     "metadata": {},
     "output_type": "display_data"
    }
   ],
   "source": [
    "sns.countplot(x='home_ownership',hue='loan_status', data=df_loan)\n",
    "plt.xticks(rotation=90)\n",
    "plt.show()"
   ]
  },
  {
   "cell_type": "code",
   "execution_count": 399,
   "metadata": {},
   "outputs": [
    {
     "name": "stdout",
     "output_type": "stream",
     "text": [
      "<class 'pandas.core.frame.DataFrame'>\n",
      "RangeIndex: 39531 entries, 0 to 39530\n",
      "Data columns (total 54 columns):\n",
      " #   Column                    Non-Null Count  Dtype  \n",
      "---  ------                    --------------  -----  \n",
      " 0   id                        39531 non-null  int64  \n",
      " 1   member_id                 39531 non-null  int64  \n",
      " 2   loan_amnt                 39531 non-null  int64  \n",
      " 3   funded_amnt               39531 non-null  int64  \n",
      " 4   funded_amnt_inv           39531 non-null  float64\n",
      " 5   installment               39531 non-null  float64\n",
      " 6   grade                     39531 non-null  object \n",
      " 7   sub_grade                 39531 non-null  object \n",
      " 8   home_ownership            39531 non-null  object \n",
      " 9   annual_inc                39531 non-null  float64\n",
      " 10  verification_status       39531 non-null  object \n",
      " 11  loan_status               39531 non-null  object \n",
      " 12  pymnt_plan                39531 non-null  object \n",
      " 13  url                       39531 non-null  object \n",
      " 14  purpose                   39531 non-null  object \n",
      " 15  title                     39531 non-null  object \n",
      " 16  zip_code                  39531 non-null  object \n",
      " 17  addr_state                39531 non-null  object \n",
      " 18  dti                       39531 non-null  float64\n",
      " 19  delinq_2yrs               39531 non-null  int64  \n",
      " 20  inq_last_6mths            39531 non-null  int64  \n",
      " 21  open_acc                  39531 non-null  int64  \n",
      " 22  pub_rec                   39531 non-null  int64  \n",
      " 23  revol_bal                 39531 non-null  int64  \n",
      " 24  total_acc                 39531 non-null  int64  \n",
      " 25  initial_list_status       39531 non-null  object \n",
      " 26  out_prncp                 39531 non-null  float64\n",
      " 27  out_prncp_inv             39531 non-null  float64\n",
      " 28  total_pymnt               39531 non-null  float64\n",
      " 29  total_pymnt_inv           39531 non-null  float64\n",
      " 30  total_rec_prncp           39531 non-null  float64\n",
      " 31  total_rec_int             39531 non-null  float64\n",
      " 32  total_rec_late_fee        39531 non-null  float64\n",
      " 33  recoveries                39531 non-null  float64\n",
      " 34  collection_recovery_fee   39531 non-null  float64\n",
      " 35  last_pymnt_amnt           39531 non-null  float64\n",
      " 36  policy_code               39531 non-null  int64  \n",
      " 37  application_type          39531 non-null  object \n",
      " 38  acc_now_delinq            39531 non-null  int64  \n",
      " 39  delinq_amnt               39531 non-null  int64  \n",
      " 40  revol_util_percentage     39531 non-null  object \n",
      " 41  term_in_months            39531 non-null  int64  \n",
      " 42  int_rate_percentage       39531 non-null  float64\n",
      " 43  issue_d_month             39531 non-null  object \n",
      " 44  issue_d_year              39531 non-null  int64  \n",
      " 45  last_credit_pull_d_month  39531 non-null  object \n",
      " 46  last_credit_pull_d_year   39531 non-null  object \n",
      " 47  last_pymnt_d_month        39531 non-null  object \n",
      " 48  last_pymnt_d_year         39531 non-null  object \n",
      " 49  earliest_cr_line_month    39531 non-null  object \n",
      " 50  earliest_cr_line_year     39531 non-null  object \n",
      " 51  profit_and_loss           39531 non-null  float64\n",
      " 52  loan_inc_ratio            39531 non-null  float64\n",
      " 53  annual_inc_lakhs          39531 non-null  float64\n",
      "dtypes: float64(18), int64(15), object(21)\n",
      "memory usage: 16.3+ MB\n"
     ]
    }
   ],
   "source": [
    "df_loan.info()"
   ]
  },
  {
   "cell_type": "code",
   "execution_count": 400,
   "metadata": {},
   "outputs": [
    {
     "data": {
      "text/html": [
       "<div>\n",
       "<style scoped>\n",
       "    .dataframe tbody tr th:only-of-type {\n",
       "        vertical-align: middle;\n",
       "    }\n",
       "\n",
       "    .dataframe tbody tr th {\n",
       "        vertical-align: top;\n",
       "    }\n",
       "\n",
       "    .dataframe thead th {\n",
       "        text-align: right;\n",
       "    }\n",
       "</style>\n",
       "<table border=\"1\" class=\"dataframe\">\n",
       "  <thead>\n",
       "    <tr style=\"text-align: right;\">\n",
       "      <th></th>\n",
       "      <th>id</th>\n",
       "      <th>member_id</th>\n",
       "      <th>loan_amnt</th>\n",
       "      <th>funded_amnt</th>\n",
       "      <th>funded_amnt_inv</th>\n",
       "      <th>installment</th>\n",
       "      <th>grade</th>\n",
       "      <th>sub_grade</th>\n",
       "      <th>home_ownership</th>\n",
       "      <th>annual_inc</th>\n",
       "      <th>...</th>\n",
       "      <th>issue_d_year</th>\n",
       "      <th>last_credit_pull_d_month</th>\n",
       "      <th>last_credit_pull_d_year</th>\n",
       "      <th>last_pymnt_d_month</th>\n",
       "      <th>last_pymnt_d_year</th>\n",
       "      <th>earliest_cr_line_month</th>\n",
       "      <th>earliest_cr_line_year</th>\n",
       "      <th>profit_and_loss</th>\n",
       "      <th>loan_inc_ratio</th>\n",
       "      <th>annual_inc_lakhs</th>\n",
       "    </tr>\n",
       "  </thead>\n",
       "  <tbody>\n",
       "    <tr>\n",
       "      <th>0</th>\n",
       "      <td>1077501</td>\n",
       "      <td>1296599</td>\n",
       "      <td>5000</td>\n",
       "      <td>5000</td>\n",
       "      <td>4975.0</td>\n",
       "      <td>162.87</td>\n",
       "      <td>B</td>\n",
       "      <td>B2</td>\n",
       "      <td>RENT</td>\n",
       "      <td>24000.0</td>\n",
       "      <td>...</td>\n",
       "      <td>2011</td>\n",
       "      <td>May</td>\n",
       "      <td>16</td>\n",
       "      <td>Jan</td>\n",
       "      <td>15</td>\n",
       "      <td>Jan</td>\n",
       "      <td>85</td>\n",
       "      <td>17.263104</td>\n",
       "      <td>20.833333</td>\n",
       "      <td>24.000</td>\n",
       "    </tr>\n",
       "    <tr>\n",
       "      <th>1</th>\n",
       "      <td>1077430</td>\n",
       "      <td>1314167</td>\n",
       "      <td>2500</td>\n",
       "      <td>2500</td>\n",
       "      <td>2500.0</td>\n",
       "      <td>59.83</td>\n",
       "      <td>C</td>\n",
       "      <td>C4</td>\n",
       "      <td>RENT</td>\n",
       "      <td>30000.0</td>\n",
       "      <td>...</td>\n",
       "      <td>2011</td>\n",
       "      <td>Sep</td>\n",
       "      <td>13</td>\n",
       "      <td>Apr</td>\n",
       "      <td>13</td>\n",
       "      <td>Apr</td>\n",
       "      <td>99</td>\n",
       "      <td>-59.651600</td>\n",
       "      <td>8.333333</td>\n",
       "      <td>30.000</td>\n",
       "    </tr>\n",
       "    <tr>\n",
       "      <th>2</th>\n",
       "      <td>1077175</td>\n",
       "      <td>1313524</td>\n",
       "      <td>2400</td>\n",
       "      <td>2400</td>\n",
       "      <td>2400.0</td>\n",
       "      <td>84.33</td>\n",
       "      <td>C</td>\n",
       "      <td>C5</td>\n",
       "      <td>RENT</td>\n",
       "      <td>12252.0</td>\n",
       "      <td>...</td>\n",
       "      <td>2011</td>\n",
       "      <td>May</td>\n",
       "      <td>16</td>\n",
       "      <td>Jun</td>\n",
       "      <td>14</td>\n",
       "      <td>Nov</td>\n",
       "      <td>01</td>\n",
       "      <td>25.236119</td>\n",
       "      <td>19.588639</td>\n",
       "      <td>12.252</td>\n",
       "    </tr>\n",
       "    <tr>\n",
       "      <th>3</th>\n",
       "      <td>1076863</td>\n",
       "      <td>1277178</td>\n",
       "      <td>10000</td>\n",
       "      <td>10000</td>\n",
       "      <td>10000.0</td>\n",
       "      <td>339.31</td>\n",
       "      <td>C</td>\n",
       "      <td>C1</td>\n",
       "      <td>RENT</td>\n",
       "      <td>49200.0</td>\n",
       "      <td>...</td>\n",
       "      <td>2011</td>\n",
       "      <td>Apr</td>\n",
       "      <td>16</td>\n",
       "      <td>Jan</td>\n",
       "      <td>15</td>\n",
       "      <td>Feb</td>\n",
       "      <td>96</td>\n",
       "      <td>22.318900</td>\n",
       "      <td>20.325203</td>\n",
       "      <td>49.200</td>\n",
       "    </tr>\n",
       "    <tr>\n",
       "      <th>4</th>\n",
       "      <td>1075358</td>\n",
       "      <td>1311748</td>\n",
       "      <td>3000</td>\n",
       "      <td>3000</td>\n",
       "      <td>3000.0</td>\n",
       "      <td>67.79</td>\n",
       "      <td>B</td>\n",
       "      <td>B5</td>\n",
       "      <td>RENT</td>\n",
       "      <td>80000.0</td>\n",
       "      <td>...</td>\n",
       "      <td>2011</td>\n",
       "      <td>May</td>\n",
       "      <td>16</td>\n",
       "      <td>May</td>\n",
       "      <td>16</td>\n",
       "      <td>Jan</td>\n",
       "      <td>96</td>\n",
       "      <td>17.111000</td>\n",
       "      <td>3.750000</td>\n",
       "      <td>80.000</td>\n",
       "    </tr>\n",
       "  </tbody>\n",
       "</table>\n",
       "<p>5 rows × 54 columns</p>\n",
       "</div>"
      ],
      "text/plain": [
       "        id  member_id  loan_amnt  funded_amnt  funded_amnt_inv  installment  \\\n",
       "0  1077501    1296599       5000         5000           4975.0       162.87   \n",
       "1  1077430    1314167       2500         2500           2500.0        59.83   \n",
       "2  1077175    1313524       2400         2400           2400.0        84.33   \n",
       "3  1076863    1277178      10000        10000          10000.0       339.31   \n",
       "4  1075358    1311748       3000         3000           3000.0        67.79   \n",
       "\n",
       "  grade sub_grade home_ownership  annual_inc  ... issue_d_year  \\\n",
       "0     B        B2           RENT     24000.0  ...         2011   \n",
       "1     C        C4           RENT     30000.0  ...         2011   \n",
       "2     C        C5           RENT     12252.0  ...         2011   \n",
       "3     C        C1           RENT     49200.0  ...         2011   \n",
       "4     B        B5           RENT     80000.0  ...         2011   \n",
       "\n",
       "  last_credit_pull_d_month last_credit_pull_d_year last_pymnt_d_month  \\\n",
       "0                      May                      16                Jan   \n",
       "1                      Sep                      13                Apr   \n",
       "2                      May                      16                Jun   \n",
       "3                      Apr                      16                Jan   \n",
       "4                      May                      16                May   \n",
       "\n",
       "  last_pymnt_d_year earliest_cr_line_month earliest_cr_line_year  \\\n",
       "0                15                    Jan                    85   \n",
       "1                13                    Apr                    99   \n",
       "2                14                    Nov                    01   \n",
       "3                15                    Feb                    96   \n",
       "4                16                    Jan                    96   \n",
       "\n",
       "  profit_and_loss  loan_inc_ratio  annual_inc_lakhs  \n",
       "0       17.263104       20.833333            24.000  \n",
       "1      -59.651600        8.333333            30.000  \n",
       "2       25.236119       19.588639            12.252  \n",
       "3       22.318900       20.325203            49.200  \n",
       "4       17.111000        3.750000            80.000  \n",
       "\n",
       "[5 rows x 54 columns]"
      ]
     },
     "execution_count": 400,
     "metadata": {},
     "output_type": "execute_result"
    }
   ],
   "source": [
    "df_loan.head()"
   ]
  },
  {
   "cell_type": "markdown",
   "metadata": {},
   "source": [
    "## Bivariate Plots"
   ]
  },
  {
   "cell_type": "code",
   "execution_count": 405,
   "metadata": {},
   "outputs": [
    {
     "data": {
      "image/png": "[encoded data removed]",
      "text/plain": [
       "<Figure size 432x288 with 1 Axes>"
      ]
     },
     "metadata": {},
     "output_type": "display_data"
    }
   ],
   "source": [
    "sns.barplot(y='annual_inc_lakhs', x='home_ownership', data=df_loan)\n",
    "plt.xticks(rotation=90)\n",
    "plt.show()"
   ]
  },
  {
   "cell_type": "code",
   "execution_count": 419,
   "metadata": {},
   "outputs": [
    {
     "data": {
      "image/png": "[encoded data removed]",
      "text/plain": [
       "<Figure size 1080x1080 with 1 Axes>"
      ]
     },
     "metadata": {},
     "output_type": "display_data"
    }
   ],
   "source": [
    "g = df_loan[df_loan['loan_status']=='Charged Off'].groupby('addr_state')['loan_status'].count().reset_index()\n",
    "plt.figure(figsize=(15,15))\n",
    "sns.barplot(y='addr_state', x='loan_status', data=g)\n",
    "plt.xlabel('Count of loan status to be defaulter')\n",
    "plt.ylabel('State')\n",
    "plt.show()"
   ]
  },
  {
   "cell_type": "code",
   "execution_count": 407,
   "metadata": {},
   "outputs": [
    {
     "data": {
      "image/png": "[encoded data removed]",
      "text/plain": [
       "<Figure size 1080x1080 with 2 Axes>"
      ]
     },
     "metadata": {},
     "output_type": "display_data"
    }
   ],
   "source": [
    "plt.figure(figsize=(15,15))\n",
    "sns.heatmap(df_loan.corr())\n",
    "plt.show()"
   ]
  },
  {
   "cell_type": "markdown",
   "metadata": {},
   "source": [
    "nference: Mean, 25% and 75% Loan amount of Fully paid and charged off is exactly same"
   ]
  },
  {
   "cell_type": "code",
   "execution_count": 408,
   "metadata": {},
   "outputs": [
    {
     "data": {
      "image/png": "[encoded data removed]",
      "text/plain": [
       "<Figure size 432x288 with 1 Axes>"
      ]
     },
     "metadata": {},
     "output_type": "display_data"
    }
   ],
   "source": [
    "g = df_loan.groupby('issue_d_year')['loan_status'].count()\n",
    "\n",
    "g.plot.line(x_compat=True)\n",
    "plt.xticks(np.arange(min(g.index), max(g.index)+1, 1.0))\n",
    "plt.title('No of loan granted over the years')\n",
    "plt.xlabel('Loan Issue Year')\n",
    "plt.show()"
   ]
  },
  {
   "cell_type": "markdown",
   "metadata": {},
   "source": [
    "Inference: Loan Applicants have been increasing exponentially from year 2007 to 2011"
   ]
  },
  {
   "cell_type": "code",
   "execution_count": 411,
   "metadata": {},
   "outputs": [
    {
     "data": {
      "image/png": "[encoded data removed]",
      "text/plain": [
       "<Figure size 432x288 with 1 Axes>"
      ]
     },
     "metadata": {},
     "output_type": "display_data"
    }
   ],
   "source": [
    "# Relationship of default with funded amount with a barplot\n",
    "sns.barplot(x='loan_status',y='profit_and_loss',data=df_loan)\n",
    "plt.xlabel(\"Loan Status\")\n",
    "plt.ylabel(\"Profit and Loss\")\n",
    "\n",
    "plt.title(\"Profit n Loss vs status relationship\")\n",
    "\n",
    "plt.show()"
   ]
  },
  {
   "cell_type": "code",
   "execution_count": 412,
   "metadata": {},
   "outputs": [
    {
     "data": {
      "image/png": "[encoded data removed]",
      "text/plain": [
       "<Figure size 432x288 with 1 Axes>"
      ]
     },
     "metadata": {},
     "output_type": "display_data"
    }
   ],
   "source": [
    "df_agg = df_loan[df_loan['funded_amnt'] <= 7000].groupby(['loan_status'])['funded_amnt'].count().reset_index()\n",
    "sns.barplot(x='loan_status', y='funded_amnt', data=df_agg)\n",
    "plt.title('Loan Amount granted less than 7 lakhs')\n",
    "plt.xlabel('Loan Status')\n",
    "plt.ylabel('Loan Amount Granted')\n",
    "plt.show()"
   ]
  },
  {
   "cell_type": "code",
   "execution_count": 413,
   "metadata": {},
   "outputs": [
    {
     "data": {
      "image/png": "[encoded data removed]",
      "text/plain": [
       "<Figure size 432x288 with 1 Axes>"
      ]
     },
     "metadata": {},
     "output_type": "display_data"
    }
   ],
   "source": [
    "df_agg = df_loan[df_loan['funded_amnt'] > 7000].groupby(['loan_status'])['funded_amnt'].count().reset_index()\n",
    "sns.barplot(x='loan_status', y='funded_amnt', data=df_agg)\n",
    "plt.title('Loan Amount granted more than 7 lakhs')\n",
    "plt.xlabel('Loan Status')\n",
    "plt.ylabel('Loan Amount Granted')\n",
    "plt.show()"
   ]
  },
  {
   "cell_type": "code",
   "execution_count": 422,
   "metadata": {},
   "outputs": [
    {
     "data": {
      "text/html": [
       "<div>\n",
       "<style scoped>\n",
       "    .dataframe tbody tr th:only-of-type {\n",
       "        vertical-align: middle;\n",
       "    }\n",
       "\n",
       "    .dataframe tbody tr th {\n",
       "        vertical-align: top;\n",
       "    }\n",
       "\n",
       "    .dataframe thead th {\n",
       "        text-align: right;\n",
       "    }\n",
       "</style>\n",
       "<table border=\"1\" class=\"dataframe\">\n",
       "  <thead>\n",
       "    <tr style=\"text-align: right;\">\n",
       "      <th></th>\n",
       "      <th>loan_amnt</th>\n",
       "      <th>funded_amnt</th>\n",
       "      <th>funded_amnt_inv</th>\n",
       "      <th>installment</th>\n",
       "      <th>annual_inc</th>\n",
       "      <th>dti</th>\n",
       "    </tr>\n",
       "  </thead>\n",
       "  <tbody>\n",
       "    <tr>\n",
       "      <th>loan_amnt</th>\n",
       "      <td>1.000</td>\n",
       "      <td>0.982</td>\n",
       "      <td>0.941</td>\n",
       "      <td>0.930</td>\n",
       "      <td>0.271</td>\n",
       "      <td>0.065</td>\n",
       "    </tr>\n",
       "    <tr>\n",
       "      <th>funded_amnt</th>\n",
       "      <td>0.982</td>\n",
       "      <td>1.000</td>\n",
       "      <td>0.959</td>\n",
       "      <td>0.956</td>\n",
       "      <td>0.267</td>\n",
       "      <td>0.065</td>\n",
       "    </tr>\n",
       "    <tr>\n",
       "      <th>funded_amnt_inv</th>\n",
       "      <td>0.941</td>\n",
       "      <td>0.959</td>\n",
       "      <td>1.000</td>\n",
       "      <td>0.906</td>\n",
       "      <td>0.255</td>\n",
       "      <td>0.073</td>\n",
       "    </tr>\n",
       "    <tr>\n",
       "      <th>installment</th>\n",
       "      <td>0.930</td>\n",
       "      <td>0.956</td>\n",
       "      <td>0.906</td>\n",
       "      <td>1.000</td>\n",
       "      <td>0.271</td>\n",
       "      <td>0.053</td>\n",
       "    </tr>\n",
       "    <tr>\n",
       "      <th>annual_inc</th>\n",
       "      <td>0.271</td>\n",
       "      <td>0.267</td>\n",
       "      <td>0.255</td>\n",
       "      <td>0.271</td>\n",
       "      <td>1.000</td>\n",
       "      <td>-0.123</td>\n",
       "    </tr>\n",
       "    <tr>\n",
       "      <th>dti</th>\n",
       "      <td>0.065</td>\n",
       "      <td>0.065</td>\n",
       "      <td>0.073</td>\n",
       "      <td>0.053</td>\n",
       "      <td>-0.123</td>\n",
       "      <td>1.000</td>\n",
       "    </tr>\n",
       "  </tbody>\n",
       "</table>\n",
       "</div>"
      ],
      "text/plain": [
       "                 loan_amnt  funded_amnt  funded_amnt_inv  installment  \\\n",
       "loan_amnt            1.000        0.982            0.941        0.930   \n",
       "funded_amnt          0.982        1.000            0.959        0.956   \n",
       "funded_amnt_inv      0.941        0.959            1.000        0.906   \n",
       "installment          0.930        0.956            0.906        1.000   \n",
       "annual_inc           0.271        0.267            0.255        0.271   \n",
       "dti                  0.065        0.065            0.073        0.053   \n",
       "\n",
       "                 annual_inc    dti  \n",
       "loan_amnt             0.271  0.065  \n",
       "funded_amnt           0.267  0.065  \n",
       "funded_amnt_inv       0.255  0.073  \n",
       "installment           0.271  0.053  \n",
       "annual_inc            1.000 -0.123  \n",
       "dti                  -0.123  1.000  "
      ]
     },
     "execution_count": 422,
     "metadata": {},
     "output_type": "execute_result"
    }
   ],
   "source": [
    "laons_corr_df = df_loan.filter([\"loan_amnt\", \"funded_amnt\", \"funded_amnt_inv\",'int_rate_float','installment','emp_length','annual_inc','dti','l_t_ai']) \n",
    "cor = laons_corr_df.corr()\n",
    "round(cor, 3)"
   ]
  },
  {
   "cell_type": "code",
   "execution_count": 423,
   "metadata": {},
   "outputs": [
    {
     "data": {
      "image/png": "[encoded data removed]",
      "text/plain": [
       "<Figure size 720x576 with 2 Axes>"
      ]
     },
     "metadata": {},
     "output_type": "display_data"
    }
   ],
   "source": [
    "#Plotting Heat map to understand correlation visually\n",
    "plt.figure(figsize=(10,8))\n",
    "\n",
    "# heatmap\n",
    "sns.heatmap(cor, cmap=\"YlGnBu\", annot=True)\n",
    "plt.show()"
   ]
  },
  {
   "cell_type": "code",
   "execution_count": null,
   "metadata": {},
   "outputs": [],
   "source": []
  },
  {
   "cell_type": "code",
   "execution_count": null,
   "metadata": {},
   "outputs": [],
   "source": []
  }
 ],
 "metadata": {
  "kernelspec": {
   "display_name": "Python 3",
   "language": "python",
   "name": "python3"
  },
  "language_info": {
   "codemirror_mode": {
    "name": "ipython",
    "version": 3
   },
   "file_extension": ".py",
   "mimetype": "text/x-python",
   "name": "python",
   "nbconvert_exporter": "python",
   "pygments_lexer": "ipython3",
   "version": "3.8.5"
  }
 },
 "nbformat": 4,
 "nbformat_minor": 4
}
